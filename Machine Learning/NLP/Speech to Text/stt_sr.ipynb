{
 "cells": [
  {
   "cell_type": "code",
   "execution_count": 26,
   "metadata": {
    "cell_id": "d3b2b83b-caa1-4bb7-9193-e7ee09f40f39",
    "deepnote_cell_type": "code",
    "deepnote_to_be_reexecuted": false,
    "execution_millis": 1,
    "execution_start": 1646615303066,
    "source_hash": "c62e1cb9",
    "tags": []
   },
   "outputs": [],
   "source": [
    "from ipywebrtc import AudioRecorder, CameraStream\n",
    "import speech_recognition as sr\n",
    "import ipywidgets as widgets"
   ]
  },
  {
   "cell_type": "code",
   "execution_count": null,
   "metadata": {
    "cell_id": "e2a91380-5662-4eb7-98bc-a08727f79221",
    "deepnote_cell_type": "code",
    "tags": []
   },
   "outputs": [],
   "source": [
    "r = sr.Recognizer()"
   ]
  },
  {
   "cell_type": "markdown",
   "metadata": {
    "cell_id": "1f569cc1-beab-4c33-adcb-1b5de63eb9a9",
    "deepnote_cell_type": "markdown",
    "tags": []
   },
   "source": [
    "### Microphone"
   ]
  },
  {
   "cell_type": "code",
   "execution_count": null,
   "metadata": {
    "cell_id": "202080a7-2aff-4e23-8d99-4562a9d5da95",
    "deepnote_cell_type": "code",
    "deepnote_to_be_reexecuted": false,
    "execution_millis": 31,
    "execution_start": 1646609314308,
    "source_hash": "6256212d",
    "tags": []
   },
   "outputs": [
    {
     "data": {
      "application/vnd.jupyter.widget-view+json": {
       "model_id": "2fb4685e4193464d9133da1a98725722",
       "version_major": 2,
       "version_minor": 0
      },
      "text/plain": [
       "AudioRecorder(audio=Audio(value=b'', format='webm'), stream=CameraStream(constraints={'audio': True, 'video': …"
      ]
     },
     "metadata": {},
     "output_type": "display_data"
    }
   ],
   "source": [
    "camera = CameraStream(constraints={'audio': True,'video':False})\n",
    "recorder = AudioRecorder(stream=camera)\n",
    "display(recorder)"
   ]
  },
  {
   "cell_type": "code",
   "execution_count": null,
   "metadata": {
    "cell_id": "6e5539f9-6899-4740-8b6e-58308b0a77e3",
    "deepnote_cell_type": "code",
    "deepnote_to_be_reexecuted": false,
    "execution_millis": 0,
    "execution_start": 1646609244788,
    "source_hash": "834ec65f",
    "tags": []
   },
   "outputs": [],
   "source": [
    "recorder.save('recorded_audio.webm')"
   ]
  },
  {
   "cell_type": "markdown",
   "metadata": {
    "cell_id": "f822ccd4-d569-4eb2-8018-3db035d49adb",
    "deepnote_cell_type": "markdown",
    "tags": []
   },
   "source": [
    "### Audio File"
   ]
  },
  {
   "cell_type": "code",
   "execution_count": null,
   "metadata": {
    "cell_id": "4e4cb8e5-6242-41aa-867e-476006af96c8",
    "deepnote_cell_type": "code",
    "tags": []
   },
   "outputs": [],
   "source": [
    "#Convert to WAV\n",
    "!ffmpeg -i 'recorded_audio.webm' converted_audio.wav -y"
   ]
  },
  {
   "cell_type": "markdown",
   "metadata": {
    "cell_id": "30211766-dc06-4c4a-a6ed-8fd9f7415e27",
    "deepnote_cell_type": "markdown",
    "tags": []
   },
   "source": [
    "### To Text"
   ]
  },
  {
   "cell_type": "code",
   "execution_count": null,
   "metadata": {
    "cell_id": "f66f96f2-a7bd-486e-b0b4-ffd1ef11261d",
    "deepnote_cell_type": "code",
    "tags": []
   },
   "outputs": [],
   "source": [
    "audio_file_name = 'converted_audio.wav'\n",
    "\n",
    "audio_file = sr.AudioFile(audio_file_name)\n",
    "with audio_file as source:\n",
    "    audio_instance = r.record(source)"
   ]
  },
  {
   "cell_type": "code",
   "execution_count": null,
   "metadata": {
    "cell_id": "7d57e4d0-4a7b-463c-b791-8545f576b39c",
    "deepnote_cell_type": "code",
    "tags": []
   },
   "outputs": [],
   "source": [
    "text_google = r.recognize_google(audio_instance)\n",
    "f'{text_google}'"
   ]
  }
 ],
 "metadata": {
  "deepnote": {
   "is_reactive": false
  },
  "deepnote_execution_queue": [],
  "deepnote_notebook_id": "608586d4-6191-4b2c-a9b6-7bc7c5905963",
  "language_info": {
   "name": "python"
  },
  "orig_nbformat": 2
 },
 "nbformat": 4,
 "nbformat_minor": 2
}
