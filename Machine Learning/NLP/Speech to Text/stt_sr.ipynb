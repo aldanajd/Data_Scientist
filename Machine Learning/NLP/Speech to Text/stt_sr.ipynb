{
 "cells": [
  {
   "cell_type": "code",
   "metadata": {
    "tags": [],
    "cell_id": "d3b2b83b-caa1-4bb7-9193-e7ee09f40f39",
    "deepnote_to_be_reexecuted": false,
    "source_hash": "c62e1cb9",
    "execution_start": 1646615658372,
    "execution_millis": 104,
    "deepnote_cell_type": "code"
   },
   "source": "from ipywebrtc import AudioRecorder, CameraStream\nimport speech_recognition as sr\nimport ipywidgets as widgets",
   "execution_count": 1,
   "outputs": []
  },
  {
   "cell_type": "code",
   "metadata": {
    "cell_id": "e2a91380-5662-4eb7-98bc-a08727f79221",
    "tags": [],
    "deepnote_to_be_reexecuted": false,
    "source_hash": "bccbe40d",
    "execution_start": 1646615658531,
    "execution_millis": 0,
    "deepnote_cell_type": "code"
   },
   "source": "r = sr.Recognizer()",
   "execution_count": 2,
   "outputs": []
  },
  {
   "cell_type": "markdown",
   "source": "### Microphone",
   "metadata": {
    "cell_id": "1f569cc1-beab-4c33-adcb-1b5de63eb9a9",
    "tags": [],
    "deepnote_cell_type": "markdown"
   }
  },
  {
   "cell_type": "code",
   "metadata": {
    "cell_id": "202080a7-2aff-4e23-8d99-4562a9d5da95",
    "tags": [],
    "deepnote_to_be_reexecuted": false,
    "source_hash": "b6279b11",
    "execution_start": 1646615658554,
    "execution_millis": 1,
    "deepnote_cell_type": "code"
   },
   "source": "camera = CameraStream(constraints={'audio': True,'video':False})\nrecorder = AudioRecorder(stream=camera)\ndisplay(recorder)",
   "execution_count": 3,
   "outputs": [
    {
     "data": {
      "text/plain": "AudioRecorder(audio=Audio(value=b'', format='webm'), stream=CameraStream(constraints={'audio': True, 'video': …",
      "application/vnd.jupyter.widget-view+json": {
       "version_major": 2,
       "version_minor": 0,
       "model_id": "30f8cd3ffa9c45d184f2e6cd44c9257f"
      }
     },
     "metadata": {},
     "output_type": "display_data"
    }
   ]
  },
  {
   "cell_type": "code",
   "metadata": {
    "cell_id": "6e5539f9-6899-4740-8b6e-58308b0a77e3",
    "tags": [],
    "deepnote_to_be_reexecuted": false,
    "source_hash": "da29a477",
    "execution_start": 1646615685798,
    "execution_millis": 39,
    "deepnote_cell_type": "code"
   },
   "source": "recorder.save('recorded_audio.webm')",
   "execution_count": 5,
   "outputs": []
  },
  {
   "cell_type": "markdown",
   "source": "### Audio File",
   "metadata": {
    "cell_id": "f822ccd4-d569-4eb2-8018-3db035d49adb",
    "tags": [],
    "deepnote_cell_type": "markdown"
   }
  },
  {
   "cell_type": "code",
   "metadata": {
    "cell_id": "4e4cb8e5-6242-41aa-867e-476006af96c8",
    "tags": [],
    "deepnote_to_be_reexecuted": false,
    "source_hash": "588cb33c",
    "execution_start": 1646615685838,
    "execution_millis": 1650,
    "deepnote_cell_type": "code"
   },
   "source": "#Convert to WAV\n!ffmpeg -i 'recorded_audio.webm' converted_audio.wav -y",
   "execution_count": 6,
   "outputs": [
    {
     "name": "stdout",
     "text": "ffmpeg version 4.1.8-0+deb10u1 Copyright (c) 2000-2021 the FFmpeg developers\n  built with gcc 8 (Debian 8.3.0-6)\n  configuration: --prefix=/usr --extra-version=0+deb10u1 --toolchain=hardened --libdir=/usr/lib/x86_64-linux-gnu --incdir=/usr/include/x86_64-linux-gnu --arch=amd64 --enable-gpl --disable-stripping --enable-avresample --disable-filter=resample --enable-avisynth --enable-gnutls --enable-ladspa --enable-libaom --enable-libass --enable-libbluray --enable-libbs2b --enable-libcaca --enable-libcdio --enable-libcodec2 --enable-libflite --enable-libfontconfig --enable-libfreetype --enable-libfribidi --enable-libgme --enable-libgsm --enable-libjack --enable-libmp3lame --enable-libmysofa --enable-libopenjpeg --enable-libopenmpt --enable-libopus --enable-libpulse --enable-librsvg --enable-librubberband --enable-libshine --enable-libsnappy --enable-libsoxr --enable-libspeex --enable-libssh --enable-libtheora --enable-libtwolame --enable-libvidstab --enable-libvorbis --enable-libvpx --enable-libwavpack --enable-libwebp --enable-libx265 --enable-libxml2 --enable-libxvid --enable-libzmq --enable-libzvbi --enable-lv2 --enable-omx --enable-openal --enable-opengl --enable-sdl2 --enable-libdc1394 --enable-libdrm --enable-libiec61883 --enable-chromaprint --enable-frei0r --enable-libx264 --enable-shared\n  libavutil      56. 22.100 / 56. 22.100\n  libavcodec     58. 35.100 / 58. 35.100\n  libavformat    58. 20.100 / 58. 20.100\n  libavdevice    58.  5.100 / 58.  5.100\n  libavfilter     7. 40.101 /  7. 40.101\n  libavresample   4.  0.  0 /  4.  0.  0\n  libswscale      5.  3.100 /  5.  3.100\n  libswresample   3.  3.100 /  3.  3.100\n  libpostproc    55.  3.100 / 55.  3.100\nInput #0, matroska,webm, from 'recorded_audio.webm':\n  Metadata:\n    encoder         : Chrome\n  Duration: N/A, start: 0.000000, bitrate: N/A\n    Stream #0:0(eng): Audio: opus, 48000 Hz, mono, fltp (default)\nStream mapping:\n  Stream #0:0 -> #0:0 (opus (native) -> pcm_s16le (native))\nPress [q] to stop, [?] for help\nOutput #0, wav, to 'converted_audio.wav':\n  Metadata:\n    ISFT            : Lavf58.20.100\n    Stream #0:0(eng): Audio: pcm_s16le ([1][0][0][0] / 0x0001), 48000 Hz, mono, s16, 768 kb/s (default)\n    Metadata:\n      encoder         : Lavc58.35.100 pcm_s16le\nsize=     135kB time=00:00:01.43 bitrate= 768.7kbits/s speed=68.7x    \nvideo:0kB audio:135kB subtitle:0kB other streams:0kB global headers:0kB muxing overhead: 0.056424%\n",
     "output_type": "stream"
    }
   ]
  },
  {
   "cell_type": "markdown",
   "source": "### To Text",
   "metadata": {
    "cell_id": "30211766-dc06-4c4a-a6ed-8fd9f7415e27",
    "tags": [],
    "deepnote_cell_type": "markdown"
   }
  },
  {
   "cell_type": "code",
   "metadata": {
    "cell_id": "f66f96f2-a7bd-486e-b0b4-ffd1ef11261d",
    "tags": [],
    "deepnote_to_be_reexecuted": false,
    "source_hash": "5140853b",
    "execution_start": 1646615687013,
    "execution_millis": 4,
    "deepnote_cell_type": "code"
   },
   "source": "audio_file_name = 'converted_audio.wav'\n\naudio_file = sr.AudioFile(audio_file_name)\nwith audio_file as source:\n    audio_instance = r.record(source)",
   "execution_count": 7,
   "outputs": []
  },
  {
   "cell_type": "code",
   "metadata": {
    "cell_id": "7d57e4d0-4a7b-463c-b791-8545f576b39c",
    "tags": [],
    "deepnote_to_be_reexecuted": false,
    "source_hash": "b7867b66",
    "execution_start": 1646615687027,
    "execution_millis": 544,
    "deepnote_cell_type": "code"
   },
   "source": "text_google = r.recognize_google(audio_instance)\nf'{text_google}'",
   "execution_count": 8,
   "outputs": [
    {
     "output_type": "execute_result",
     "execution_count": 8,
     "data": {
      "text/plain": "'hello how are you'"
     },
     "metadata": {}
    }
   ]
  }
}
