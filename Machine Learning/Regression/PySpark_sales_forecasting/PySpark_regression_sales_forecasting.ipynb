{
  "cells": [
    {
      "cell_type": "code",
      "execution_count": 1,
      "metadata": {
        "colab": {
          "base_uri": "https://localhost:8080/"
        },
        "id": "CpGNQH4Tp44c",
        "outputId": "a382af61-f4a3-4d10-9a63-2947090d8b7b"
      },
      "outputs": [
        {
          "name": "stdout",
          "output_type": "stream",
          "text": [
            "Collecting pyspark\n",
            "  Downloading pyspark-3.2.1.tar.gz (281.4 MB)\n",
            "\u001b[K     |████████████████████████████████| 281.4 MB 37 kB/s \n",
            "\u001b[?25hCollecting py4j==0.10.9.3\n",
            "  Downloading py4j-0.10.9.3-py2.py3-none-any.whl (198 kB)\n",
            "\u001b[K     |████████████████████████████████| 198 kB 44.8 MB/s \n",
            "\u001b[?25hBuilding wheels for collected packages: pyspark\n",
            "  Building wheel for pyspark (setup.py) ... \u001b[?25l\u001b[?25hdone\n",
            "  Created wheel for pyspark: filename=pyspark-3.2.1-py2.py3-none-any.whl size=281853642 sha256=6f83383f96f7bc890392eeab85a0c35824f36426055e0909341fa4fbafa71caa\n",
            "  Stored in directory: /root/.cache/pip/wheels/9f/f5/07/7cd8017084dce4e93e84e92efd1e1d5334db05f2e83bcef74f\n",
            "Successfully built pyspark\n",
            "Installing collected packages: py4j, pyspark\n",
            "Successfully installed py4j-0.10.9.3 pyspark-3.2.1\n"
          ]
        }
      ],
      "source": [
        "!pip install pyspark"
      ]
    },
    {
      "cell_type": "markdown",
      "metadata": {
        "id": "SDN0b78d1Wy7"
      },
      "source": [
        "# Dependencies"
      ]
    },
    {
      "cell_type": "code",
      "execution_count": 2,
      "metadata": {
        "id": "DUkcsBF9pt6l"
      },
      "outputs": [],
      "source": [
        "# To create the file's path\n",
        "import os \n",
        "# To import the file into the colab enviroment \n",
        "from google.colab import drive\n",
        "# To download files from cloud\n",
        "from google.colab import files\n",
        "# To connect to Spark and Create Row\n",
        "from pyspark.sql import SparkSession, Row\n",
        "# User defined function (UDF) to apply custom functions to dataset, col to return columns\n",
        "from pyspark.sql.functions import *\n",
        "# Import data types for casting/converting\n",
        "from pyspark.sql.types import *\n",
        "# Import StringIndexer to perform categorical transformation to numerical\n",
        "from pyspark.ml.feature import StringIndexer\n",
        "# Transforms multiple rows into a row vector\n",
        "from pyspark.ml.feature import VectorAssembler\n",
        "# Linear regression algorithm\n",
        "from pyspark.ml.regression import LinearRegression\n",
        "# For model loading\n",
        "from pyspark.ml.regression import LinearRegressionModel"
      ]
    },
    {
      "cell_type": "markdown",
      "metadata": {
        "id": "n2ewIPg_1ZSW"
      },
      "source": [
        "# Setting Up Drive and Spark Session"
      ]
    },
    {
      "cell_type": "code",
      "execution_count": 3,
      "metadata": {
        "colab": {
          "base_uri": "https://localhost:8080/"
        },
        "id": "YzPV2CStpzt7",
        "outputId": "24e4d62e-fa1f-47bc-e17d-6d1afec6ccf6"
      },
      "outputs": [
        {
          "name": "stdout",
          "output_type": "stream",
          "text": [
            "Mounted at /content/drive\n"
          ]
        }
      ],
      "source": [
        "# Importing the drive\n",
        "drive.mount('/content/drive')"
      ]
    },
    {
      "cell_type": "code",
      "execution_count": 4,
      "metadata": {
        "colab": {
          "base_uri": "https://localhost:8080/",
          "height": 35
        },
        "id": "xK5S33nOpzv5",
        "outputId": "9dec199a-aabc-4b49-a380-08e91e1b98b2"
      },
      "outputs": [
        {
          "data": {
            "application/vnd.google.colaboratory.intrinsic+json": {
              "type": "string"
            },
            "text/plain": [
              "'drive/MyDrive/Colab Datasets/sales_detail_report.csv'"
            ]
          },
          "execution_count": 4,
          "metadata": {},
          "output_type": "execute_result"
        }
      ],
      "source": [
        "# Creating the path\n",
        "path = os.path.join('drive','MyDrive','Colab Datasets','sales_detail_report.csv')\n",
        "path"
      ]
    },
    {
      "cell_type": "code",
      "execution_count": 5,
      "metadata": {
        "colab": {
          "base_uri": "https://localhost:8080/",
          "height": 219
        },
        "id": "JR8y0G2LpuB6",
        "outputId": "91f33675-1c6c-4e4c-8c3a-f05e4dfcca0e"
      },
      "outputs": [
        {
          "data": {
            "text/html": [
              "\n",
              "            <div>\n",
              "                <p><b>SparkSession - in-memory</b></p>\n",
              "                \n",
              "        <div>\n",
              "            <p><b>SparkContext</b></p>\n",
              "\n",
              "            <p><a href=\"http://e4779c4dbe92:4040\">Spark UI</a></p>\n",
              "\n",
              "            <dl>\n",
              "              <dt>Version</dt>\n",
              "                <dd><code>v3.2.1</code></dd>\n",
              "              <dt>Master</dt>\n",
              "                <dd><code>local[*]</code></dd>\n",
              "              <dt>AppName</dt>\n",
              "                <dd><code>Spark Project</code></dd>\n",
              "            </dl>\n",
              "        </div>\n",
              "        \n",
              "            </div>\n",
              "        "
            ],
            "text/plain": [
              "<pyspark.sql.session.SparkSession at 0x7f518d974410>"
            ]
          },
          "execution_count": 5,
          "metadata": {},
          "output_type": "execute_result"
        }
      ],
      "source": [
        "# Creating a Spark Session\n",
        "spark = SparkSession.builder.appName('Spark Project').getOrCreate()\n",
        "spark"
      ]
    },
    {
      "cell_type": "markdown",
      "metadata": {
        "id": "EO-HJLvq8c7N"
      },
      "source": [
        "# Data Preprocessing"
      ]
    },
    {
      "cell_type": "code",
      "execution_count": 6,
      "metadata": {
        "id": "ZMx7c83Rp0Lg"
      },
      "outputs": [],
      "source": [
        "# Reading the .csv from the mounted drive\n",
        "df_original = spark.read.csv(path, header=True, sep=';', inferSchema=True)\n",
        "df = df_original"
      ]
    },
    {
      "cell_type": "code",
      "execution_count": 7,
      "metadata": {
        "colab": {
          "base_uri": "https://localhost:8080/"
        },
        "id": "yU-iPDHNqLjk",
        "outputId": "ef2962f7-e4f2-4747-9095-3410ffc99991"
      },
      "outputs": [
        {
          "data": {
            "text/plain": [
              "11793728"
            ]
          },
          "execution_count": 7,
          "metadata": {},
          "output_type": "execute_result"
        }
      ],
      "source": [
        "# Data frame lenght\n",
        "df.count()"
      ]
    },
    {
      "cell_type": "code",
      "execution_count": 8,
      "metadata": {
        "colab": {
          "base_uri": "https://localhost:8080/"
        },
        "id": "_5FFxh9_6Pja",
        "outputId": "8083397f-c25d-4e58-8afe-e74ba1532c78"
      },
      "outputs": [
        {
          "data": {
            "text/plain": [
              "[Row(Store No.='CL104', POS Terminal No.='CL10401', Transaction No.=180560, Date='01/02/18', Shifted Date=None, VAT %=19, Area HO Currency Code='CLP', Net Amount='27,723.00', VAT Amount='5,267.00', Item No.='BY1610', Size Description='8'),\n",
              " Row(Store No.='CL104', POS Terminal No.='CL10401', Transaction No.=180563, Date='01/02/18', Shifted Date=None, VAT %=19, Area HO Currency Code='CLP', Net Amount='-52,933.00', VAT Amount='-10,057.00', Item No.='BA8899', Size Description='9-'),\n",
              " Row(Store No.='CL104', POS Terminal No.='CL10401', Transaction No.=180564, Date='01/02/18', Shifted Date=None, VAT %=19, Area HO Currency Code='CLP', Net Amount='52,933.00', VAT Amount='10,057.00', Item No.='BA8899', Size Description='8-'),\n",
              " Row(Store No.='CL104', POS Terminal No.='CL10401', Transaction No.=180569, Date='01/02/18', Shifted Date=None, VAT %=19, Area HO Currency Code='CLP', Net Amount='13,437.00', VAT Amount='2,553.00', Item No.='BQ0759', Size Description='XL'),\n",
              " Row(Store No.='CL104', POS Terminal No.='CL10401', Transaction No.=180570, Date='01/02/18', Shifted Date=None, VAT %=19, Area HO Currency Code='CLP', Net Amount='39,487.00', VAT Amount='7,503.00', Item No.='BQ4533', Size Description='XL')]"
            ]
          },
          "execution_count": 8,
          "metadata": {},
          "output_type": "execute_result"
        }
      ],
      "source": [
        "# First rows\n",
        "df.head(5)"
      ]
    },
    {
      "cell_type": "code",
      "execution_count": 9,
      "metadata": {
        "colab": {
          "base_uri": "https://localhost:8080/"
        },
        "id": "Vz_HeysgKtMn",
        "outputId": "9a336f90-908e-42be-d45f-74b17d013988"
      },
      "outputs": [
        {
          "data": {
            "text/plain": [
              "['Store No.',\n",
              " 'POS Terminal No.',\n",
              " 'Transaction No.',\n",
              " 'Date',\n",
              " 'Shifted Date',\n",
              " 'VAT %',\n",
              " 'Area HO Currency Code',\n",
              " 'Net Amount',\n",
              " 'VAT Amount',\n",
              " 'Item No.',\n",
              " 'Size Description']"
            ]
          },
          "execution_count": 9,
          "metadata": {},
          "output_type": "execute_result"
        }
      ],
      "source": [
        "# Showing columns name\n",
        "df.columns"
      ]
    },
    {
      "cell_type": "code",
      "execution_count": 10,
      "metadata": {
        "colab": {
          "base_uri": "https://localhost:8080/"
        },
        "id": "A_NG8xohCefF",
        "outputId": "6bd95428-6ab6-46a4-81ec-123a3c7298d8"
      },
      "outputs": [
        {
          "data": {
            "text/plain": [
              "[('Store No.', 'string'),\n",
              " ('POS Terminal No.', 'string'),\n",
              " ('Transaction No.', 'int'),\n",
              " ('Date', 'string'),\n",
              " ('Shifted Date', 'string'),\n",
              " ('VAT %', 'int'),\n",
              " ('Area HO Currency Code', 'string'),\n",
              " ('Net Amount', 'string'),\n",
              " ('VAT Amount', 'string'),\n",
              " ('Item No.', 'string'),\n",
              " ('Size Description', 'string')]"
            ]
          },
          "execution_count": 10,
          "metadata": {},
          "output_type": "execute_result"
        }
      ],
      "source": [
        "# Columns and data types \n",
        "df.dtypes"
      ]
    },
    {
      "cell_type": "code",
      "execution_count": 11,
      "metadata": {
        "colab": {
          "base_uri": "https://localhost:8080/"
        },
        "id": "zDbUT-yYEZPc",
        "outputId": "753a8f89-31a0-4886-93aa-d15c8699fba3"
      },
      "outputs": [
        {
          "data": {
            "text/plain": [
              "[Row(Store No.='CL104', Transaction No.=180560, Date='01/02/18', Net Amount='27,723.00', Item No.='BY1610'),\n",
              " Row(Store No.='CL104', Transaction No.=180563, Date='01/02/18', Net Amount='-52,933.00', Item No.='BA8899'),\n",
              " Row(Store No.='CL104', Transaction No.=180564, Date='01/02/18', Net Amount='52,933.00', Item No.='BA8899')]"
            ]
          },
          "execution_count": 11,
          "metadata": {},
          "output_type": "execute_result"
        }
      ],
      "source": [
        "# Dropping useless columns \n",
        "df = df.drop('POS Terminal No.', 'Shifted Date', 'VAT %', 'Area HO Currency Code', 'VAT Amount', 'Size Description')\n",
        "df.head(3)"
      ]
    },
    {
      "cell_type": "code",
      "execution_count": 12,
      "metadata": {
        "colab": {
          "base_uri": "https://localhost:8080/"
        },
        "id": "gqlxs2UyK8fT",
        "outputId": "a08f94a4-331b-4968-a3b3-709e9a6d55b2"
      },
      "outputs": [
        {
          "name": "stdout",
          "output_type": "stream",
          "text": [
            "\"Store No.\" RENAMED TO: \"store_no\"\n",
            "\n",
            "\"Transaction No.\" RENAMED TO: \"transaction_no\"\n",
            "\n",
            "\"Date\" RENAMED TO: \"date\"\n",
            "\n",
            "\"Net Amount\" RENAMED TO: \"net_amount\"\n",
            "\n",
            "\"Item No.\" RENAMED TO: \"item_no\"\n",
            "\n",
            "['store_no', 'transaction_no', 'date', 'net_amount', 'item_no']\n"
          ]
        }
      ],
      "source": [
        "# Loop through each column and rename it\n",
        "for col in df.columns:\n",
        "  new_col = col.replace(\" \",\"_\").lower().replace(\".\",\"\")\n",
        "  print (f'\"{col}\" RENAMED TO: \"{new_col}\"\\n')\n",
        "  df = df.withColumnRenamed(col, new_col)\n",
        "\n",
        "print (f\"{df.columns}\")"
      ]
    },
    {
      "cell_type": "markdown",
      "metadata": {
        "id": "2ZMYILSYI4x4"
      },
      "source": [
        "## Dropping NA values"
      ]
    },
    {
      "cell_type": "code",
      "execution_count": 14,
      "metadata": {
        "id": "oJjqVRJKI6YJ"
      },
      "outputs": [],
      "source": [
        "df = df.na.drop(how='any')"
      ]
    },
    {
      "cell_type": "markdown",
      "metadata": {
        "id": "bgS8f9jlp9C7"
      },
      "source": [
        "## Change data type"
      ]
    },
    {
      "cell_type": "code",
      "execution_count": 16,
      "metadata": {
        "colab": {
          "base_uri": "https://localhost:8080/"
        },
        "id": "3kOQFJ1qqvGe",
        "outputId": "a3389325-d779-455d-fa97-9fc2cf4395b3"
      },
      "outputs": [
        {
          "name": "stdout",
          "output_type": "stream",
          "text": [
            "+--------+--------------+--------+----------+-------+\n",
            "|store_no|transaction_no|    date|net_amount|item_no|\n",
            "+--------+--------------+--------+----------+-------+\n",
            "|   CL104|        180560|01/02/18| 27,723.00| BY1610|\n",
            "|   CL104|        180563|01/02/18|-52,933.00| BA8899|\n",
            "+--------+--------------+--------+----------+-------+\n",
            "only showing top 2 rows\n",
            "\n"
          ]
        }
      ],
      "source": [
        "df.show(2)"
      ]
    },
    {
      "cell_type": "code",
      "execution_count": 17,
      "metadata": {
        "colab": {
          "base_uri": "https://localhost:8080/"
        },
        "id": "f3pxI5R2qb3Z",
        "outputId": "51c6f425-b84d-4092-b142-ddb725d4ba18"
      },
      "outputs": [
        {
          "data": {
            "text/plain": [
              "[('store_no', 'string'),\n",
              " ('transaction_no', 'int'),\n",
              " ('date', 'string'),\n",
              " ('net_amount', 'string'),\n",
              " ('item_no', 'string')]"
            ]
          },
          "execution_count": 17,
          "metadata": {},
          "output_type": "execute_result"
        }
      ],
      "source": [
        "df.dtypes"
      ]
    },
    {
      "cell_type": "markdown",
      "metadata": {
        "id": "Gc3bMIJ1qmUB"
      },
      "source": [
        "* 'date' from string to date format\n",
        "* 'net_amount' from string to int, replace \",\""
      ]
    },
    {
      "cell_type": "code",
      "execution_count": 18,
      "metadata": {
        "colab": {
          "base_uri": "https://localhost:8080/"
        },
        "id": "hJ8cyKWTqUEo",
        "outputId": "e81bc40b-8c14-4a9c-b864-9414c67b9d6b"
      },
      "outputs": [
        {
          "name": "stdout",
          "output_type": "stream",
          "text": [
            "+--------+--------------+--------+----------+-------+\n",
            "|store_no|transaction_no|    date|net_amount|item_no|\n",
            "+--------+--------------+--------+----------+-------+\n",
            "|   CL104|        180560|01/02/18|     27723| BY1610|\n",
            "|   CL104|        180563|01/02/18|    -52933| BA8899|\n",
            "|   CL104|        180564|01/02/18|     52933| BA8899|\n",
            "+--------+--------------+--------+----------+-------+\n",
            "only showing top 3 rows\n",
            "\n"
          ]
        },
        {
          "data": {
            "text/plain": [
              "[('store_no', 'string'),\n",
              " ('transaction_no', 'int'),\n",
              " ('date', 'string'),\n",
              " ('net_amount', 'int'),\n",
              " ('item_no', 'string')]"
            ]
          },
          "execution_count": 18,
          "metadata": {},
          "output_type": "execute_result"
        }
      ],
      "source": [
        "# Apply an user defined function to clean\n",
        "\n",
        "# Define the UDF\n",
        "udf_replace = udf(lambda x: x.replace(',',''))\n",
        "\n",
        "# Select the column to replace then apply the function and cast to change it's data type\n",
        "df = df.withColumn(\n",
        "    'net_amount',\n",
        "    udf_replace(\n",
        "        df['net_amount']\n",
        "        ).cast(IntegerType())\n",
        "    )\n",
        "\n",
        "df.show(3)\n",
        "df.dtypes"
      ]
    },
    {
      "cell_type": "code",
      "execution_count": 19,
      "metadata": {
        "colab": {
          "base_uri": "https://localhost:8080/"
        },
        "id": "9iywgYICr0YD",
        "outputId": "9a728c8c-d1cf-4b77-bce1-6dafe491a851"
      },
      "outputs": [
        {
          "name": "stdout",
          "output_type": "stream",
          "text": [
            "+--------+--------------+\n",
            "|    date|date_formatted|\n",
            "+--------+--------------+\n",
            "|01/02/18|    2018-01-02|\n",
            "|01/02/18|    2018-01-02|\n",
            "+--------+--------------+\n",
            "only showing top 2 rows\n",
            "\n"
          ]
        },
        {
          "data": {
            "text/plain": [
              "[('date', 'string'), ('date_formatted', 'date')]"
            ]
          },
          "execution_count": 19,
          "metadata": {},
          "output_type": "execute_result"
        }
      ],
      "source": [
        "# Test: change date string MM/dd/yy to date format yy-MM-dd\n",
        "df.select('date', to_date('date', 'MM/dd/yy').alias('date_formatted')).show(2)\n",
        "df.select('date', to_date('date', 'MM/dd/yy').alias('date_formatted')).dtypes"
      ]
    },
    {
      "cell_type": "code",
      "execution_count": 20,
      "metadata": {
        "colab": {
          "base_uri": "https://localhost:8080/"
        },
        "id": "Kzvsl0rSsvHL",
        "outputId": "e47feae3-27fa-46d7-8d02-29f697594965"
      },
      "outputs": [
        {
          "name": "stdout",
          "output_type": "stream",
          "text": [
            "+--------+--------------+----------+----------+-------+\n",
            "|store_no|transaction_no|      date|net_amount|item_no|\n",
            "+--------+--------------+----------+----------+-------+\n",
            "|   CL104|        180560|2018-01-02|     27723| BY1610|\n",
            "|   CL104|        180563|2018-01-02|    -52933| BA8899|\n",
            "|   CL104|        180564|2018-01-02|     52933| BA8899|\n",
            "+--------+--------------+----------+----------+-------+\n",
            "only showing top 3 rows\n",
            "\n"
          ]
        }
      ],
      "source": [
        "# Change in place\n",
        "df = df.withColumn('date', to_date('date', 'MM/dd/yy'))\n",
        "df.show(3)"
      ]
    },
    {
      "cell_type": "code",
      "execution_count": 21,
      "metadata": {
        "id": "evE2f7noUT1e"
      },
      "outputs": [],
      "source": [
        "# Export cleaned data frame into a single partition \n",
        "df.repartition(1).write.csv(\"pyspark_sales_forescasting\")"
      ]
    },
    {
      "cell_type": "markdown",
      "metadata": {
        "id": "nrdmekSr3zeO"
      },
      "source": [
        "# Modelling"
      ]
    },
    {
      "cell_type": "markdown",
      "metadata": {
        "id": "KqOWyika7rdD"
      },
      "source": [
        "## Vectorizing the Data "
      ]
    },
    {
      "cell_type": "code",
      "execution_count": 22,
      "metadata": {
        "id": "EZgg6ttQDobm"
      },
      "outputs": [],
      "source": [
        "input_cols = ['store_no', 'item_no']\n",
        "output_cols = [col+'_index' for col in input_cols]"
      ]
    },
    {
      "cell_type": "code",
      "execution_count": 23,
      "metadata": {
        "id": "Z-1Fnr8v4XxQ"
      },
      "outputs": [],
      "source": [
        "# Create indexer instance\n",
        "indexer = StringIndexer(\n",
        "    inputCols=input_cols,\n",
        "    outputCols=output_cols\n",
        "    )"
      ]
    },
    {
      "cell_type": "code",
      "execution_count": 24,
      "metadata": {
        "colab": {
          "base_uri": "https://localhost:8080/"
        },
        "id": "MWWfCMiCCFod",
        "outputId": "17bacdc8-6e28-431e-921f-f2894bc16e97"
      },
      "outputs": [
        {
          "data": {
            "text/plain": [
              "['store_no', 'store_no_index', 'item_no', 'item_no_index']"
            ]
          },
          "execution_count": 24,
          "metadata": {},
          "output_type": "execute_result"
        }
      ],
      "source": [
        "# Get a crossed list of non-index and indexed columns\n",
        "crossed_cols = [col_name for sublist in zip(input_cols, output_cols) for col_name in sublist]\n",
        "crossed_cols"
      ]
    },
    {
      "cell_type": "code",
      "execution_count": 25,
      "metadata": {
        "id": "v03QGhy54Xvh"
      },
      "outputs": [],
      "source": [
        "# Insert the data frame and then transform it\n",
        "indexed_df = indexer.fit(df).transform(df)"
      ]
    },
    {
      "cell_type": "code",
      "execution_count": 26,
      "metadata": {
        "colab": {
          "base_uri": "https://localhost:8080/"
        },
        "id": "uSpDoBYSLxYS",
        "outputId": "6d6f080e-ceab-45b1-e59e-7b9b881c6610"
      },
      "outputs": [
        {
          "name": "stdout",
          "output_type": "stream",
          "text": [
            "+--------+--------------+----------+----------+-------+--------------+-------------+\n",
            "|store_no|transaction_no|date      |net_amount|item_no|store_no_index|item_no_index|\n",
            "+--------+--------------+----------+----------+-------+--------------+-------------+\n",
            "|CL104   |180560        |2018-01-02|27723     |BY1610 |32.0          |20355.0      |\n",
            "|CL104   |180563        |2018-01-02|-52933    |BA8899 |32.0          |23292.0      |\n",
            "|CL104   |180564        |2018-01-02|52933     |BA8899 |32.0          |23292.0      |\n",
            "+--------+--------------+----------+----------+-------+--------------+-------------+\n",
            "only showing top 3 rows\n",
            "\n"
          ]
        }
      ],
      "source": [
        "# Show the new data frame\n",
        "indexed_df.show(3, truncate=False)"
      ]
    },
    {
      "cell_type": "code",
      "execution_count": 27,
      "metadata": {
        "colab": {
          "base_uri": "https://localhost:8080/"
        },
        "id": "V6DD5lTI4Xth",
        "outputId": "141902ec-f28d-4b7e-a569-6394aba7c357"
      },
      "outputs": [
        {
          "name": "stdout",
          "output_type": "stream",
          "text": [
            "Column 'store_no' - Unique Values: 78\n",
            "Column 'store_no_index' - Unique Values: 78\n",
            "Column 'item_no' - Unique Values: 38452\n",
            "Column 'item_no_index' - Unique Values: 38452\n"
          ]
        }
      ],
      "source": [
        "# Confirms unique values between non-indexed and indexed columns\n",
        "for col in crossed_cols:\n",
        "  print(f\"Column '{col}' - Unique Values: {indexed_df.select(col).distinct().count()}\")"
      ]
    },
    {
      "cell_type": "code",
      "execution_count": 28,
      "metadata": {
        "id": "kZJGlaV77hrh"
      },
      "outputs": [],
      "source": [
        "# Convert date to numeric\n",
        "indexed_df = indexed_df.withColumn('unix_date', unix_timestamp(indexed_df['date']))"
      ]
    },
    {
      "cell_type": "code",
      "execution_count": 29,
      "metadata": {
        "colab": {
          "base_uri": "https://localhost:8080/"
        },
        "id": "ECWk7r7x8WJs",
        "outputId": "1172390e-18a9-42be-c35d-a275fc21e695"
      },
      "outputs": [
        {
          "name": "stdout",
          "output_type": "stream",
          "text": [
            "+--------+--------------+----------+----------+-------+--------------+-------------+----------+\n",
            "|store_no|transaction_no|      date|net_amount|item_no|store_no_index|item_no_index| unix_date|\n",
            "+--------+--------------+----------+----------+-------+--------------+-------------+----------+\n",
            "|   CL104|        180560|2018-01-02|     27723| BY1610|          32.0|      20355.0|1514851200|\n",
            "|   CL104|        180563|2018-01-02|    -52933| BA8899|          32.0|      23292.0|1514851200|\n",
            "|   CL104|        180564|2018-01-02|     52933| BA8899|          32.0|      23292.0|1514851200|\n",
            "+--------+--------------+----------+----------+-------+--------------+-------------+----------+\n",
            "only showing top 3 rows\n",
            "\n"
          ]
        }
      ],
      "source": [
        "indexed_df.show(3)"
      ]
    },
    {
      "cell_type": "code",
      "execution_count": 30,
      "metadata": {
        "id": "-qDSGdDt6PIh"
      },
      "outputs": [],
      "source": [
        "# Selecting the independent variables and dependant variable\n",
        "x_cols = ['unix_date', 'store_no_index', 'item_no_index']\n",
        "y_col = 'net_amount'"
      ]
    },
    {
      "cell_type": "code",
      "execution_count": 31,
      "metadata": {
        "id": "aSfPzno96PGU"
      },
      "outputs": [],
      "source": [
        "# Vectorizing the independent variables\n",
        "featureassembler=VectorAssembler(inputCols=x_cols,\n",
        "\n",
        "                                outputCol=str(x_cols))\n",
        "\n",
        "vectorized_df=featureassembler.transform(indexed_df)"
      ]
    },
    {
      "cell_type": "code",
      "execution_count": 32,
      "metadata": {
        "colab": {
          "base_uri": "https://localhost:8080/"
        },
        "id": "b2Jf_F8q8-7L",
        "outputId": "76573718-5345-48f9-850a-958561717f4f"
      },
      "outputs": [
        {
          "name": "stdout",
          "output_type": "stream",
          "text": [
            "+--------+--------------+----------+----------+-------+--------------+-------------+----------+------------------------------------------------+\n",
            "|store_no|transaction_no|date      |net_amount|item_no|store_no_index|item_no_index|unix_date |['unix_date', 'store_no_index', 'item_no_index']|\n",
            "+--------+--------------+----------+----------+-------+--------------+-------------+----------+------------------------------------------------+\n",
            "|CL104   |180560        |2018-01-02|27723     |BY1610 |32.0          |20355.0      |1514851200|[1.5148512E9,32.0,20355.0]                      |\n",
            "|CL104   |180563        |2018-01-02|-52933    |BA8899 |32.0          |23292.0      |1514851200|[1.5148512E9,32.0,23292.0]                      |\n",
            "|CL104   |180564        |2018-01-02|52933     |BA8899 |32.0          |23292.0      |1514851200|[1.5148512E9,32.0,23292.0]                      |\n",
            "+--------+--------------+----------+----------+-------+--------------+-------------+----------+------------------------------------------------+\n",
            "only showing top 3 rows\n",
            "\n"
          ]
        }
      ],
      "source": [
        "vectorized_df.show(3, truncate=False)"
      ]
    },
    {
      "cell_type": "code",
      "execution_count": 33,
      "metadata": {
        "id": "m5nxjntv9ONi"
      },
      "outputs": [],
      "source": [
        "# Shriking the data frame with vectorized independent variables and dependent variable\n",
        "vectorized_df = vectorized_df.select(str(x_cols), y_col)"
      ]
    },
    {
      "cell_type": "code",
      "execution_count": 34,
      "metadata": {
        "colab": {
          "base_uri": "https://localhost:8080/"
        },
        "id": "wBYcxyfG9igG",
        "outputId": "969d7373-04fe-460d-be1f-14e00ff40e63"
      },
      "outputs": [
        {
          "name": "stdout",
          "output_type": "stream",
          "text": [
            "+------------------------------------------------+----------+\n",
            "|['unix_date', 'store_no_index', 'item_no_index']|net_amount|\n",
            "+------------------------------------------------+----------+\n",
            "|[1.5148512E9,32.0,20355.0]                      |27723     |\n",
            "|[1.5148512E9,32.0,23292.0]                      |-52933    |\n",
            "|[1.5148512E9,32.0,23292.0]                      |52933     |\n",
            "+------------------------------------------------+----------+\n",
            "only showing top 3 rows\n",
            "\n"
          ]
        }
      ],
      "source": [
        "vectorized_df.show(3, truncate=False)"
      ]
    },
    {
      "cell_type": "markdown",
      "metadata": {
        "id": "IrPa1LqH6VRA"
      },
      "source": [
        "## Fitting the Model"
      ]
    },
    {
      "cell_type": "code",
      "execution_count": 35,
      "metadata": {
        "id": "9M9jpLiM_dEj"
      },
      "outputs": [],
      "source": [
        "# Split the data into train and test validation\n",
        "train_data, test_data= vectorized_df.randomSplit([0.8,0.2])"
      ]
    },
    {
      "cell_type": "code",
      "execution_count": 36,
      "metadata": {
        "id": "AkATxba9_xhw"
      },
      "outputs": [],
      "source": [
        "# Creating the Linear Regressor object\n",
        "regressor = LinearRegression(featuresCol=str(x_cols), labelCol=y_col)\n"
      ]
    },
    {
      "cell_type": "code",
      "execution_count": 37,
      "metadata": {
        "colab": {
          "base_uri": "https://localhost:8080/"
        },
        "id": "ul4ahwkkBEga",
        "outputId": "f55134e2-0db3-4d77-e0b2-b2795da64b22"
      },
      "outputs": [
        {
          "data": {
            "text/plain": [
              "LinearRegressionModel: uid=LinearRegression_fdab7d7e6ea8, numFeatures=3"
            ]
          },
          "execution_count": 37,
          "metadata": {},
          "output_type": "execute_result"
        }
      ],
      "source": [
        "# Fitting the data into\n",
        "regressor = regressor.fit(train_data)\n",
        "regressor"
      ]
    },
    {
      "cell_type": "markdown",
      "metadata": {
        "id": "ZFhkb6K0FG81"
      },
      "source": [
        "## Evaluating the Model"
      ]
    },
    {
      "cell_type": "code",
      "execution_count": 38,
      "metadata": {
        "colab": {
          "base_uri": "https://localhost:8080/"
        },
        "id": "JskdDmF7ADVx",
        "outputId": "c8370617-e56e-474d-be34-195ce0b8520f"
      },
      "outputs": [
        {
          "data": {
            "text/plain": [
              "-27536.480864434543"
            ]
          },
          "execution_count": 38,
          "metadata": {},
          "output_type": "execute_result"
        }
      ],
      "source": [
        "# Metrics: Intercept\n",
        "regressor.intercept"
      ]
    },
    {
      "cell_type": "code",
      "execution_count": 39,
      "metadata": {
        "colab": {
          "base_uri": "https://localhost:8080/"
        },
        "id": "64HNamNT6PEF",
        "outputId": "4ca8dd98-758e-4e0e-a0cf-fb9aa3b8be99"
      },
      "outputs": [
        {
          "data": {
            "text/plain": [
              "DenseVector([0.0, 52.1383, 0.2307])"
            ]
          },
          "execution_count": 39,
          "metadata": {},
          "output_type": "execute_result"
        }
      ],
      "source": [
        "# Metrics: Coefficients\n",
        "regressor.coefficients"
      ]
    },
    {
      "cell_type": "code",
      "execution_count": 40,
      "metadata": {
        "id": "4kXOU2AxADUA"
      },
      "outputs": [],
      "source": [
        "# Making predictions about the test data\n",
        "predicted_results = regressor.evaluate(test_data)"
      ]
    },
    {
      "cell_type": "code",
      "execution_count": 41,
      "metadata": {
        "colab": {
          "base_uri": "https://localhost:8080/"
        },
        "id": "uaxa5LOtADR7",
        "outputId": "8019b9c6-e9c3-4f93-fee0-b43ec04591df"
      },
      "outputs": [
        {
          "name": "stderr",
          "output_type": "stream",
          "text": [
            "/usr/local/lib/python3.7/dist-packages/pyspark/sql/context.py:127: FutureWarning: Deprecated in 3.0.0. Use SparkSession.builder.getOrCreate() instead.\n",
            "  FutureWarning\n"
          ]
        },
        {
          "name": "stdout",
          "output_type": "stream",
          "text": [
            "+------------------------------------------------+----------+------------------+\n",
            "|['unix_date', 'store_no_index', 'item_no_index']|net_amount|prediction        |\n",
            "+------------------------------------------------+----------+------------------+\n",
            "|[1.5148512E9,0.0,7.0]                           |5034      |12632.298837674582|\n",
            "|[1.5148512E9,0.0,7.0]                           |5034      |12632.298837674582|\n",
            "|[1.5148512E9,0.0,12.0]                          |15118     |12633.452178866686|\n",
            "+------------------------------------------------+----------+------------------+\n",
            "only showing top 3 rows\n",
            "\n"
          ]
        }
      ],
      "source": [
        "# Showing \n",
        "predicted_results.predictions.show(3, truncate=False)"
      ]
    },
    {
      "cell_type": "code",
      "execution_count": 42,
      "metadata": {
        "colab": {
          "base_uri": "https://localhost:8080/"
        },
        "id": "HEv-0VJIE7DJ",
        "outputId": "cfb79685-5c7d-49a8-80de-facd7f8420fe"
      },
      "outputs": [
        {
          "data": {
            "text/plain": [
              "(0.011389349500087298, 12412.562681188234, 386420196.7691038)"
            ]
          },
          "execution_count": 42,
          "metadata": {},
          "output_type": "execute_result"
        }
      ],
      "source": [
        "# Performance Metrics\n",
        "predicted_results.r2, predicted_results.meanAbsoluteError, predicted_results.meanSquaredError"
      ]
    },
    {
      "cell_type": "markdown",
      "metadata": {
        "id": "FpZj1nA7FIxY"
      },
      "source": [
        "## Saving the Model"
      ]
    },
    {
      "cell_type": "code",
      "execution_count": 43,
      "metadata": {
        "id": "ShlSYfUAGo6R"
      },
      "outputs": [],
      "source": [
        "# Saving the model\n",
        "regressor.save('pyspark_regressor_sales_forecasting')"
      ]
    },
    {
      "cell_type": "code",
      "execution_count": 110,
      "metadata": {
        "colab": {
          "base_uri": "https://localhost:8080/",
          "height": 17
        },
        "id": "G-nXy6ANY9TY",
        "outputId": "c8e45caa-4d0a-4226-ac5d-99f649d02f1d"
      },
      "outputs": [
        {
          "data": {
            "application/javascript": "\n    async function download(id, filename, size) {\n      if (!google.colab.kernel.accessAllowed) {\n        return;\n      }\n      const div = document.createElement('div');\n      const label = document.createElement('label');\n      label.textContent = `Downloading \"${filename}\": `;\n      div.appendChild(label);\n      const progress = document.createElement('progress');\n      progress.max = size;\n      div.appendChild(progress);\n      document.body.appendChild(div);\n\n      const buffers = [];\n      let downloaded = 0;\n\n      const channel = await google.colab.kernel.comms.open(id);\n      // Send a message to notify the kernel that we're ready.\n      channel.send({})\n\n      for await (const message of channel.messages) {\n        // Send a message to notify the kernel that we're ready.\n        channel.send({})\n        if (message.buffers) {\n          for (const buffer of message.buffers) {\n            buffers.push(buffer);\n            downloaded += buffer.byteLength;\n            progress.value = downloaded;\n          }\n        }\n      }\n      const blob = new Blob(buffers, {type: 'application/binary'});\n      const a = document.createElement('a');\n      a.href = window.URL.createObjectURL(blob);\n      a.download = filename;\n      div.appendChild(a);\n      a.click();\n      div.remove();\n    }\n  ",
            "text/plain": [
              "<IPython.core.display.Javascript object>"
            ]
          },
          "metadata": {},
          "output_type": "display_data"
        },
        {
          "data": {
            "application/javascript": "download(\"download_221fa626-be02-44af-9997-a3c938746d56\", \"pyspark_regressor_sales_forecasting.zip\", 3931)",
            "text/plain": [
              "<IPython.core.display.Javascript object>"
            ]
          },
          "metadata": {},
          "output_type": "display_data"
        }
      ],
      "source": [
        "# Download the Model\n",
        "zip_filename = 'pyspark_regressor_sales_forecasting.zip'\n",
        "\n",
        "if os.path.exists(zip_filename):\n",
        "  os.remove(zip_filename)\n",
        "\n",
        "# Zip output input\n",
        "os.system(f\"zip -r {zip_filename} pyspark_regressor_sales_forecasting/*\") \n",
        "\n",
        "# Download the Zip file\n",
        "files.download(zip_filename)"
      ]
    }
  ],
  "metadata": {
    "colab": {
      "collapsed_sections": [],
      "name": "Untitled",
      "provenance": []
    },
    "kernelspec": {
      "display_name": "Python 3",
      "name": "python3"
    },
    "language_info": {
      "name": "python"
    }
  },
  "nbformat": 4,
  "nbformat_minor": 0
}
