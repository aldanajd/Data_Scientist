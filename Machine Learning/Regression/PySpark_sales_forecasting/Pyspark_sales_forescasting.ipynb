{
  "nbformat": 4,
  "nbformat_minor": 0,
  "metadata": {
    "colab": {
      "name": "Untitled",
      "provenance": [],
      "collapsed_sections": []
    },
    "kernelspec": {
      "name": "python3",
      "display_name": "Python 3"
    },
    "language_info": {
      "name": "python"
    }
  },
  "cells": [
    {
      "cell_type": "code",
      "source": [
        "!pip install pyspark"
      ],
      "metadata": {
        "colab": {
          "base_uri": "https://localhost:8080/"
        },
        "id": "CpGNQH4Tp44c",
        "outputId": "f98c7bac-32d8-47a1-f5e4-e022df6613cb"
      },
      "execution_count": 1,
      "outputs": [
        {
          "output_type": "stream",
          "name": "stdout",
          "text": [
            "Collecting pyspark\n",
            "  Downloading pyspark-3.2.1.tar.gz (281.4 MB)\n",
            "\u001b[K     |████████████████████████████████| 281.4 MB 31 kB/s \n",
            "\u001b[?25hCollecting py4j==0.10.9.3\n",
            "  Downloading py4j-0.10.9.3-py2.py3-none-any.whl (198 kB)\n",
            "\u001b[K     |████████████████████████████████| 198 kB 47.9 MB/s \n",
            "\u001b[?25hBuilding wheels for collected packages: pyspark\n",
            "  Building wheel for pyspark (setup.py) ... \u001b[?25l\u001b[?25hdone\n",
            "  Created wheel for pyspark: filename=pyspark-3.2.1-py2.py3-none-any.whl size=281853642 sha256=afda01d2bea6d6cd1c41dd28d9e5cc90c3580e9cc561bc7e1cfc467abb8b4407\n",
            "  Stored in directory: /root/.cache/pip/wheels/9f/f5/07/7cd8017084dce4e93e84e92efd1e1d5334db05f2e83bcef74f\n",
            "Successfully built pyspark\n",
            "Installing collected packages: py4j, pyspark\n",
            "Successfully installed py4j-0.10.9.3 pyspark-3.2.1\n"
          ]
        }
      ]
    },
    {
      "cell_type": "markdown",
      "source": [
        "# Dependencies"
      ],
      "metadata": {
        "id": "SDN0b78d1Wy7"
      }
    },
    {
      "cell_type": "code",
      "source": [
        "# To create the file's path\n",
        "import os \n",
        "# To import the file into the colab enviroment \n",
        "from google.colab import drive\n",
        "# To connect to Spark and Create Row\n",
        "from pyspark.sql import SparkSession, Row\n",
        "# User defined function (UDF) to apply custom functions to dataset, col to return columns\n",
        "from pyspark.sql.functions import *\n",
        "# Import data types for casting/converting\n",
        "from pyspark.sql.types import *\n",
        "# Import StringIndexer to perform categorical transformation to numerical\n",
        "from pyspark.ml.feature import StringIndexer\n",
        "# Transforms multiple rows into a row vector\n",
        "from pyspark.ml.feature import VectorAssembler\n",
        "# Linear regression algorithm\n",
        "from pyspark.ml.regression import LinearRegression\n",
        "# For model loading\n",
        "from pyspark.ml.regression import LinearRegressionModel"
      ],
      "metadata": {
        "id": "DUkcsBF9pt6l"
      },
      "execution_count": 2,
      "outputs": []
    },
    {
      "cell_type": "markdown",
      "source": [
        "# Setting Up Drive and Spark Session"
      ],
      "metadata": {
        "id": "n2ewIPg_1ZSW"
      }
    },
    {
      "cell_type": "code",
      "source": [
        "# Importing the drive\n",
        "drive.mount('/content/drive')"
      ],
      "metadata": {
        "colab": {
          "base_uri": "https://localhost:8080/"
        },
        "id": "YzPV2CStpzt7",
        "outputId": "b6d38a89-5efe-4c8e-c0d3-7264d3eb083b"
      },
      "execution_count": 3,
      "outputs": [
        {
          "output_type": "stream",
          "name": "stdout",
          "text": [
            "Mounted at /content/drive\n"
          ]
        }
      ]
    },
    {
      "cell_type": "code",
      "source": [
        "# Creating the path\n",
        "path = os.path.join('drive','MyDrive','Colab Datasets','sales_detail_report.csv')\n",
        "path"
      ],
      "metadata": {
        "id": "xK5S33nOpzv5",
        "colab": {
          "base_uri": "https://localhost:8080/",
          "height": 35
        },
        "outputId": "84e5896a-51a0-4731-d593-f212f249509e"
      },
      "execution_count": 4,
      "outputs": [
        {
          "output_type": "execute_result",
          "data": {
            "text/plain": [
              "'drive/MyDrive/Colab Datasets/sales_detail_report.csv'"
            ],
            "application/vnd.google.colaboratory.intrinsic+json": {
              "type": "string"
            }
          },
          "metadata": {},
          "execution_count": 4
        }
      ]
    },
    {
      "cell_type": "code",
      "source": [
        "# Creating a Spark Session\n",
        "spark = SparkSession.builder.appName('Spark Project').getOrCreate()\n",
        "spark"
      ],
      "metadata": {
        "id": "JR8y0G2LpuB6",
        "colab": {
          "base_uri": "https://localhost:8080/",
          "height": 219
        },
        "outputId": "fc0a08a9-b1df-42e4-fdbf-6e13f5dba17b"
      },
      "execution_count": 5,
      "outputs": [
        {
          "output_type": "execute_result",
          "data": {
            "text/plain": [
              "<pyspark.sql.session.SparkSession at 0x7fa904eb9950>"
            ],
            "text/html": [
              "\n",
              "            <div>\n",
              "                <p><b>SparkSession - in-memory</b></p>\n",
              "                \n",
              "        <div>\n",
              "            <p><b>SparkContext</b></p>\n",
              "\n",
              "            <p><a href=\"http://f26944be1871:4040\">Spark UI</a></p>\n",
              "\n",
              "            <dl>\n",
              "              <dt>Version</dt>\n",
              "                <dd><code>v3.2.1</code></dd>\n",
              "              <dt>Master</dt>\n",
              "                <dd><code>local[*]</code></dd>\n",
              "              <dt>AppName</dt>\n",
              "                <dd><code>Spark Project</code></dd>\n",
              "            </dl>\n",
              "        </div>\n",
              "        \n",
              "            </div>\n",
              "        "
            ]
          },
          "metadata": {},
          "execution_count": 5
        }
      ]
    },
    {
      "cell_type": "markdown",
      "source": [
        "# Data Preprocessing"
      ],
      "metadata": {
        "id": "EO-HJLvq8c7N"
      }
    },
    {
      "cell_type": "code",
      "source": [
        "# Reading the .csv from the mounted drive\n",
        "df_original = spark.read.csv(path, header=True, sep=';', inferSchema=True)\n",
        "df = df_original"
      ],
      "metadata": {
        "id": "ZMx7c83Rp0Lg"
      },
      "execution_count": 6,
      "outputs": []
    },
    {
      "cell_type": "code",
      "source": [
        "# Data frame lenght\n",
        "df.count()"
      ],
      "metadata": {
        "colab": {
          "base_uri": "https://localhost:8080/"
        },
        "id": "yU-iPDHNqLjk",
        "outputId": "0261dcd5-0914-4b13-c880-0554cad367ec"
      },
      "execution_count": 7,
      "outputs": [
        {
          "output_type": "execute_result",
          "data": {
            "text/plain": [
              "11793728"
            ]
          },
          "metadata": {},
          "execution_count": 7
        }
      ]
    },
    {
      "cell_type": "code",
      "source": [
        "# First rows\n",
        "df.head(5)"
      ],
      "metadata": {
        "colab": {
          "base_uri": "https://localhost:8080/"
        },
        "id": "_5FFxh9_6Pja",
        "outputId": "9e5dd8c1-c072-467f-d41e-2cee327a1d91"
      },
      "execution_count": 8,
      "outputs": [
        {
          "output_type": "execute_result",
          "data": {
            "text/plain": [
              "[Row(Store No.='CL104', POS Terminal No.='CL10401', Transaction No.=180560, Date='01/02/18', Shifted Date=None, VAT %=19, Area HO Currency Code='CLP', Net Amount='27,723.00', VAT Amount='5,267.00', Item No.='BY1610', Size Description='8'),\n",
              " Row(Store No.='CL104', POS Terminal No.='CL10401', Transaction No.=180563, Date='01/02/18', Shifted Date=None, VAT %=19, Area HO Currency Code='CLP', Net Amount='-52,933.00', VAT Amount='-10,057.00', Item No.='BA8899', Size Description='9-'),\n",
              " Row(Store No.='CL104', POS Terminal No.='CL10401', Transaction No.=180564, Date='01/02/18', Shifted Date=None, VAT %=19, Area HO Currency Code='CLP', Net Amount='52,933.00', VAT Amount='10,057.00', Item No.='BA8899', Size Description='8-'),\n",
              " Row(Store No.='CL104', POS Terminal No.='CL10401', Transaction No.=180569, Date='01/02/18', Shifted Date=None, VAT %=19, Area HO Currency Code='CLP', Net Amount='13,437.00', VAT Amount='2,553.00', Item No.='BQ0759', Size Description='XL'),\n",
              " Row(Store No.='CL104', POS Terminal No.='CL10401', Transaction No.=180570, Date='01/02/18', Shifted Date=None, VAT %=19, Area HO Currency Code='CLP', Net Amount='39,487.00', VAT Amount='7,503.00', Item No.='BQ4533', Size Description='XL')]"
            ]
          },
          "metadata": {},
          "execution_count": 8
        }
      ]
    },
    {
      "cell_type": "code",
      "source": [
        "# Showing columns name\n",
        "df.columns"
      ],
      "metadata": {
        "colab": {
          "base_uri": "https://localhost:8080/"
        },
        "id": "Vz_HeysgKtMn",
        "outputId": "dc55e6fc-230c-4069-f17d-ad4acefedfcc"
      },
      "execution_count": 9,
      "outputs": [
        {
          "output_type": "execute_result",
          "data": {
            "text/plain": [
              "['Store No.',\n",
              " 'POS Terminal No.',\n",
              " 'Transaction No.',\n",
              " 'Date',\n",
              " 'Shifted Date',\n",
              " 'VAT %',\n",
              " 'Area HO Currency Code',\n",
              " 'Net Amount',\n",
              " 'VAT Amount',\n",
              " 'Item No.',\n",
              " 'Size Description']"
            ]
          },
          "metadata": {},
          "execution_count": 9
        }
      ]
    },
    {
      "cell_type": "code",
      "source": [
        "# Columns and data types \n",
        "df.dtypes"
      ],
      "metadata": {
        "colab": {
          "base_uri": "https://localhost:8080/"
        },
        "id": "A_NG8xohCefF",
        "outputId": "2dfde1d5-4c48-46f5-ec67-39b1788e9db5"
      },
      "execution_count": 10,
      "outputs": [
        {
          "output_type": "execute_result",
          "data": {
            "text/plain": [
              "[('Store No.', 'string'),\n",
              " ('POS Terminal No.', 'string'),\n",
              " ('Transaction No.', 'int'),\n",
              " ('Date', 'string'),\n",
              " ('Shifted Date', 'string'),\n",
              " ('VAT %', 'int'),\n",
              " ('Area HO Currency Code', 'string'),\n",
              " ('Net Amount', 'string'),\n",
              " ('VAT Amount', 'string'),\n",
              " ('Item No.', 'string'),\n",
              " ('Size Description', 'string')]"
            ]
          },
          "metadata": {},
          "execution_count": 10
        }
      ]
    },
    {
      "cell_type": "code",
      "source": [
        "# Dropping useless columns \n",
        "df = df.drop('POS Terminal No.', 'Shifted Date', 'VAT %', 'Area HO Currency Code', 'VAT Amount', 'Size Description')\n",
        "df.head(3)"
      ],
      "metadata": {
        "colab": {
          "base_uri": "https://localhost:8080/"
        },
        "id": "zDbUT-yYEZPc",
        "outputId": "143229be-e8d9-44c1-ff31-4b77f2c7ddf7"
      },
      "execution_count": 11,
      "outputs": [
        {
          "output_type": "execute_result",
          "data": {
            "text/plain": [
              "[Row(Store No.='CL104', Transaction No.=180560, Date='01/02/18', Net Amount='27,723.00', Item No.='BY1610'),\n",
              " Row(Store No.='CL104', Transaction No.=180563, Date='01/02/18', Net Amount='-52,933.00', Item No.='BA8899'),\n",
              " Row(Store No.='CL104', Transaction No.=180564, Date='01/02/18', Net Amount='52,933.00', Item No.='BA8899')]"
            ]
          },
          "metadata": {},
          "execution_count": 11
        }
      ]
    },
    {
      "cell_type": "code",
      "source": [
        "# Loop through each column and rename it\n",
        "for col in df.columns:\n",
        "  new_col = col.replace(\" \",\"_\").lower().replace(\".\",\"\")\n",
        "  print (f'\"{col}\" RENAMED TO: \"{new_col}\"\\n')\n",
        "  df = df.withColumnRenamed(col, new_col)\n",
        "\n",
        "print (f\"{df.columns}\")"
      ],
      "metadata": {
        "colab": {
          "base_uri": "https://localhost:8080/"
        },
        "id": "gqlxs2UyK8fT",
        "outputId": "5fba69ee-1ba6-407c-82ca-5b588bda592c"
      },
      "execution_count": 12,
      "outputs": [
        {
          "output_type": "stream",
          "name": "stdout",
          "text": [
            "\"Store No.\" RENAMED TO: \"store_no\"\n",
            "\n",
            "\"Transaction No.\" RENAMED TO: \"transaction_no\"\n",
            "\n",
            "\"Date\" RENAMED TO: \"date\"\n",
            "\n",
            "\"Net Amount\" RENAMED TO: \"net_amount\"\n",
            "\n",
            "\"Item No.\" RENAMED TO: \"item_no\"\n",
            "\n",
            "['store_no', 'transaction_no', 'date', 'net_amount', 'item_no']\n"
          ]
        }
      ]
    },
    {
      "cell_type": "code",
      "source": [
        "# Dropping NA values"
      ],
      "metadata": {
        "id": "2ZMYILSYI4x4"
      },
      "execution_count": 13,
      "outputs": []
    },
    {
      "cell_type": "code",
      "source": [
        "df = df.na.drop(how='any')"
      ],
      "metadata": {
        "id": "oJjqVRJKI6YJ"
      },
      "execution_count": 14,
      "outputs": []
    },
    {
      "cell_type": "code",
      "source": [
        "# Change data type"
      ],
      "metadata": {
        "id": "bgS8f9jlp9C7"
      },
      "execution_count": 15,
      "outputs": []
    },
    {
      "cell_type": "code",
      "source": [
        "df.show(2)"
      ],
      "metadata": {
        "colab": {
          "base_uri": "https://localhost:8080/"
        },
        "id": "3kOQFJ1qqvGe",
        "outputId": "91689819-a8ef-4ce8-d0cb-6ab495d92f29"
      },
      "execution_count": 16,
      "outputs": [
        {
          "output_type": "stream",
          "name": "stdout",
          "text": [
            "+--------+--------------+--------+----------+-------+\n",
            "|store_no|transaction_no|    date|net_amount|item_no|\n",
            "+--------+--------------+--------+----------+-------+\n",
            "|   CL104|        180560|01/02/18| 27,723.00| BY1610|\n",
            "|   CL104|        180563|01/02/18|-52,933.00| BA8899|\n",
            "+--------+--------------+--------+----------+-------+\n",
            "only showing top 2 rows\n",
            "\n"
          ]
        }
      ]
    },
    {
      "cell_type": "code",
      "source": [
        "df.dtypes"
      ],
      "metadata": {
        "colab": {
          "base_uri": "https://localhost:8080/"
        },
        "id": "f3pxI5R2qb3Z",
        "outputId": "6a16e69c-2521-458d-838f-02b3afcd8593"
      },
      "execution_count": 17,
      "outputs": [
        {
          "output_type": "execute_result",
          "data": {
            "text/plain": [
              "[('store_no', 'string'),\n",
              " ('transaction_no', 'int'),\n",
              " ('date', 'string'),\n",
              " ('net_amount', 'string'),\n",
              " ('item_no', 'string')]"
            ]
          },
          "metadata": {},
          "execution_count": 17
        }
      ]
    },
    {
      "cell_type": "markdown",
      "source": [
        "* 'date' from string to date format\n",
        "* 'net_amount' from string to int, replace \",\""
      ],
      "metadata": {
        "id": "Gc3bMIJ1qmUB"
      }
    },
    {
      "cell_type": "code",
      "source": [
        "# Apply an user defined function to clean\n",
        "\n",
        "# Define the UDF\n",
        "udf_replace = udf(lambda x: x.replace(',',''))\n",
        "\n",
        "# Select the column to replace then apply the function and cast to change it's data type\n",
        "df = df.withColumn(\n",
        "    'net_amount',\n",
        "    udf_replace(\n",
        "        df['net_amount']\n",
        "        ).cast(IntegerType())\n",
        "    )\n",
        "\n",
        "df.show(3)\n",
        "df.dtypes"
      ],
      "metadata": {
        "colab": {
          "base_uri": "https://localhost:8080/"
        },
        "id": "hJ8cyKWTqUEo",
        "outputId": "e63a93bf-45a6-4475-f337-bb1443929aa6"
      },
      "execution_count": 18,
      "outputs": [
        {
          "output_type": "stream",
          "name": "stdout",
          "text": [
            "+--------+--------------+--------+----------+-------+\n",
            "|store_no|transaction_no|    date|net_amount|item_no|\n",
            "+--------+--------------+--------+----------+-------+\n",
            "|   CL104|        180560|01/02/18|     27723| BY1610|\n",
            "|   CL104|        180563|01/02/18|    -52933| BA8899|\n",
            "|   CL104|        180564|01/02/18|     52933| BA8899|\n",
            "+--------+--------------+--------+----------+-------+\n",
            "only showing top 3 rows\n",
            "\n"
          ]
        },
        {
          "output_type": "execute_result",
          "data": {
            "text/plain": [
              "[('store_no', 'string'),\n",
              " ('transaction_no', 'int'),\n",
              " ('date', 'string'),\n",
              " ('net_amount', 'int'),\n",
              " ('item_no', 'string')]"
            ]
          },
          "metadata": {},
          "execution_count": 18
        }
      ]
    },
    {
      "cell_type": "code",
      "source": [
        "# Test: change date string MM/dd/yy to date format yy-MM-dd\n",
        "df.select('date', to_date('date', 'MM/dd/yy').alias('date_formatted')).show(2)\n",
        "df.select('date', to_date('date', 'MM/dd/yy').alias('date_formatted')).dtypes"
      ],
      "metadata": {
        "colab": {
          "base_uri": "https://localhost:8080/"
        },
        "id": "9iywgYICr0YD",
        "outputId": "72a692ef-ad69-42e1-e4d0-20bbbc60c509"
      },
      "execution_count": 19,
      "outputs": [
        {
          "output_type": "stream",
          "name": "stdout",
          "text": [
            "+--------+--------------+\n",
            "|    date|date_formatted|\n",
            "+--------+--------------+\n",
            "|01/02/18|    2018-01-02|\n",
            "|01/02/18|    2018-01-02|\n",
            "+--------+--------------+\n",
            "only showing top 2 rows\n",
            "\n"
          ]
        },
        {
          "output_type": "execute_result",
          "data": {
            "text/plain": [
              "[('date', 'string'), ('date_formatted', 'date')]"
            ]
          },
          "metadata": {},
          "execution_count": 19
        }
      ]
    },
    {
      "cell_type": "code",
      "source": [
        "# Change in place\n",
        "df = df.withColumn('date', to_date('date', 'MM/dd/yy'))\n",
        "df.show(3)"
      ],
      "metadata": {
        "colab": {
          "base_uri": "https://localhost:8080/"
        },
        "id": "Kzvsl0rSsvHL",
        "outputId": "284ff8fa-6b57-4ef9-8571-2de40e2627ad"
      },
      "execution_count": 20,
      "outputs": [
        {
          "output_type": "stream",
          "name": "stdout",
          "text": [
            "+--------+--------------+----------+----------+-------+\n",
            "|store_no|transaction_no|      date|net_amount|item_no|\n",
            "+--------+--------------+----------+----------+-------+\n",
            "|   CL104|        180560|2018-01-02|     27723| BY1610|\n",
            "|   CL104|        180563|2018-01-02|    -52933| BA8899|\n",
            "|   CL104|        180564|2018-01-02|     52933| BA8899|\n",
            "+--------+--------------+----------+----------+-------+\n",
            "only showing top 3 rows\n",
            "\n"
          ]
        }
      ]
    },
    {
      "cell_type": "code",
      "source": [
        "# Export cleaned data frame into a single partition \n",
        "df.repartition(1).write.csv(\"pyspark_sales_forescasting\")"
      ],
      "metadata": {
        "id": "evE2f7noUT1e"
      },
      "execution_count": 54,
      "outputs": []
    },
    {
      "cell_type": "markdown",
      "source": [
        "# Modelling"
      ],
      "metadata": {
        "id": "nrdmekSr3zeO"
      }
    },
    {
      "cell_type": "markdown",
      "source": [
        "## Vectorizing the Data "
      ],
      "metadata": {
        "id": "KqOWyika7rdD"
      }
    },
    {
      "cell_type": "code",
      "source": [
        "input_cols = ['store_no', 'item_no']\n",
        "output_cols = [col+'_index' for col in input_cols]"
      ],
      "metadata": {
        "id": "EZgg6ttQDobm"
      },
      "execution_count": 21,
      "outputs": []
    },
    {
      "cell_type": "code",
      "source": [
        "# Create indexer instance\n",
        "indexer = StringIndexer(\n",
        "    inputCols=input_cols,\n",
        "    outputCols=output_cols\n",
        "    )"
      ],
      "metadata": {
        "id": "Z-1Fnr8v4XxQ"
      },
      "execution_count": 22,
      "outputs": []
    },
    {
      "cell_type": "code",
      "source": [
        "# Get a crossed list of non-index and indexed columns\n",
        "crossed_cols = [col_name for sublist in zip(input_cols, output_cols) for col_name in sublist]\n",
        "crossed_cols"
      ],
      "metadata": {
        "colab": {
          "base_uri": "https://localhost:8080/"
        },
        "id": "MWWfCMiCCFod",
        "outputId": "f2eb0290-cd98-45b5-b161-aafcd285e84a"
      },
      "execution_count": 23,
      "outputs": [
        {
          "output_type": "execute_result",
          "data": {
            "text/plain": [
              "['store_no', 'store_no_index', 'item_no', 'item_no_index']"
            ]
          },
          "metadata": {},
          "execution_count": 23
        }
      ]
    },
    {
      "cell_type": "code",
      "source": [
        "# Insert the data frame and then transform it\n",
        "indexed_df = indexer.fit(df).transform(df)"
      ],
      "metadata": {
        "id": "v03QGhy54Xvh"
      },
      "execution_count": 24,
      "outputs": []
    },
    {
      "cell_type": "code",
      "source": [
        "# Show the new data frame\n",
        "indexed_df.show(3, truncate=False)"
      ],
      "metadata": {
        "colab": {
          "base_uri": "https://localhost:8080/"
        },
        "id": "uSpDoBYSLxYS",
        "outputId": "487caed3-1032-4dbf-9116-c0c9c96d47ee"
      },
      "execution_count": 25,
      "outputs": [
        {
          "output_type": "stream",
          "name": "stdout",
          "text": [
            "+--------+--------------+----------+----------+-------+--------------+-------------+\n",
            "|store_no|transaction_no|date      |net_amount|item_no|store_no_index|item_no_index|\n",
            "+--------+--------------+----------+----------+-------+--------------+-------------+\n",
            "|CL104   |180560        |2018-01-02|27723     |BY1610 |32.0          |20355.0      |\n",
            "|CL104   |180563        |2018-01-02|-52933    |BA8899 |32.0          |23292.0      |\n",
            "|CL104   |180564        |2018-01-02|52933     |BA8899 |32.0          |23292.0      |\n",
            "+--------+--------------+----------+----------+-------+--------------+-------------+\n",
            "only showing top 3 rows\n",
            "\n"
          ]
        }
      ]
    },
    {
      "cell_type": "code",
      "source": [
        "# Confirms unique values between non-indexed and indexed columns\n",
        "for col in crossed_cols:\n",
        "  print(f\"Column '{col}' - Unique Values: {indexed_df.select(col).distinct().count()}\")"
      ],
      "metadata": {
        "colab": {
          "base_uri": "https://localhost:8080/"
        },
        "id": "V6DD5lTI4Xth",
        "outputId": "0b66ef57-dad6-4ac4-8526-8154c3616b6f"
      },
      "execution_count": 26,
      "outputs": [
        {
          "output_type": "stream",
          "name": "stdout",
          "text": [
            "Column 'store_no' - Unique Values: 78\n",
            "Column 'store_no_index' - Unique Values: 78\n",
            "Column 'item_no' - Unique Values: 38452\n",
            "Column 'item_no_index' - Unique Values: 38452\n"
          ]
        }
      ]
    },
    {
      "cell_type": "code",
      "source": [
        "# Convert date to numeric\n",
        "indexed_df = indexed_df.withColumn('unix_date', unix_timestamp(indexed_df['date']))"
      ],
      "metadata": {
        "id": "kZJGlaV77hrh"
      },
      "execution_count": 27,
      "outputs": []
    },
    {
      "cell_type": "code",
      "source": [
        "indexed_df.show(3)"
      ],
      "metadata": {
        "colab": {
          "base_uri": "https://localhost:8080/"
        },
        "id": "ECWk7r7x8WJs",
        "outputId": "b758141c-4703-4094-d8cb-62f55c38a3d1"
      },
      "execution_count": 28,
      "outputs": [
        {
          "output_type": "stream",
          "name": "stdout",
          "text": [
            "+--------+--------------+----------+----------+-------+--------------+-------------+----------+\n",
            "|store_no|transaction_no|      date|net_amount|item_no|store_no_index|item_no_index| unix_date|\n",
            "+--------+--------------+----------+----------+-------+--------------+-------------+----------+\n",
            "|   CL104|        180560|2018-01-02|     27723| BY1610|          32.0|      20355.0|1514851200|\n",
            "|   CL104|        180563|2018-01-02|    -52933| BA8899|          32.0|      23292.0|1514851200|\n",
            "|   CL104|        180564|2018-01-02|     52933| BA8899|          32.0|      23292.0|1514851200|\n",
            "+--------+--------------+----------+----------+-------+--------------+-------------+----------+\n",
            "only showing top 3 rows\n",
            "\n"
          ]
        }
      ]
    },
    {
      "cell_type": "code",
      "source": [
        "# Selecting the independent variables and dependant variable\n",
        "x_cols = ['unix_date', 'store_no_index', 'item_no_index']\n",
        "y_col = 'net_amount'"
      ],
      "metadata": {
        "id": "-qDSGdDt6PIh"
      },
      "execution_count": 29,
      "outputs": []
    },
    {
      "cell_type": "code",
      "source": [
        "# Vectorizing the independent variables\n",
        "featureassembler=VectorAssembler(inputCols=x_cols,\n",
        "\n",
        "                                outputCol=str(x_cols))\n",
        "\n",
        "vectorized_df=featureassembler.transform(indexed_df)"
      ],
      "metadata": {
        "id": "aSfPzno96PGU"
      },
      "execution_count": 30,
      "outputs": []
    },
    {
      "cell_type": "code",
      "source": [
        "vectorized_df.show(3, truncate=False)"
      ],
      "metadata": {
        "colab": {
          "base_uri": "https://localhost:8080/"
        },
        "id": "b2Jf_F8q8-7L",
        "outputId": "8af48840-b482-45f9-b8d2-126e922a82ee"
      },
      "execution_count": 31,
      "outputs": [
        {
          "output_type": "stream",
          "name": "stdout",
          "text": [
            "+--------+--------------+----------+----------+-------+--------------+-------------+----------+------------------------------------------------+\n",
            "|store_no|transaction_no|date      |net_amount|item_no|store_no_index|item_no_index|unix_date |['unix_date', 'store_no_index', 'item_no_index']|\n",
            "+--------+--------------+----------+----------+-------+--------------+-------------+----------+------------------------------------------------+\n",
            "|CL104   |180560        |2018-01-02|27723     |BY1610 |32.0          |20355.0      |1514851200|[1.5148512E9,32.0,20355.0]                      |\n",
            "|CL104   |180563        |2018-01-02|-52933    |BA8899 |32.0          |23292.0      |1514851200|[1.5148512E9,32.0,23292.0]                      |\n",
            "|CL104   |180564        |2018-01-02|52933     |BA8899 |32.0          |23292.0      |1514851200|[1.5148512E9,32.0,23292.0]                      |\n",
            "+--------+--------------+----------+----------+-------+--------------+-------------+----------+------------------------------------------------+\n",
            "only showing top 3 rows\n",
            "\n"
          ]
        }
      ]
    },
    {
      "cell_type": "code",
      "source": [
        "# Shriking the data frame with vectorized independent variables and dependent variable\n",
        "vectorized_df = vectorized_df.select(str(x_cols), y_col)"
      ],
      "metadata": {
        "id": "m5nxjntv9ONi"
      },
      "execution_count": 32,
      "outputs": []
    },
    {
      "cell_type": "code",
      "source": [
        "vectorized_df.show(3, truncate=False)"
      ],
      "metadata": {
        "colab": {
          "base_uri": "https://localhost:8080/"
        },
        "id": "wBYcxyfG9igG",
        "outputId": "cfd44e6b-8b90-44fe-ab87-a1f9d8956163"
      },
      "execution_count": 33,
      "outputs": [
        {
          "output_type": "stream",
          "name": "stdout",
          "text": [
            "+------------------------------------------------+----------+\n",
            "|['unix_date', 'store_no_index', 'item_no_index']|net_amount|\n",
            "+------------------------------------------------+----------+\n",
            "|[1.5148512E9,32.0,20355.0]                      |27723     |\n",
            "|[1.5148512E9,32.0,23292.0]                      |-52933    |\n",
            "|[1.5148512E9,32.0,23292.0]                      |52933     |\n",
            "+------------------------------------------------+----------+\n",
            "only showing top 3 rows\n",
            "\n"
          ]
        }
      ]
    },
    {
      "cell_type": "markdown",
      "source": [
        "## Fitting the Model"
      ],
      "metadata": {
        "id": "IrPa1LqH6VRA"
      }
    },
    {
      "cell_type": "code",
      "source": [
        "# Split the data into train and test validation\n",
        "train_data, test_data= vectorized_df.randomSplit([0.8,0.2])"
      ],
      "metadata": {
        "id": "9M9jpLiM_dEj"
      },
      "execution_count": 34,
      "outputs": []
    },
    {
      "cell_type": "code",
      "source": [
        "# Creating the Linear Regressor object\n",
        "regressor = LinearRegression(featuresCol=str(x_cols), labelCol=y_col)\n"
      ],
      "metadata": {
        "id": "AkATxba9_xhw"
      },
      "execution_count": 35,
      "outputs": []
    },
    {
      "cell_type": "code",
      "source": [
        "# Fitting the data into\n",
        "regressor = regressor.fit(train_data)\n",
        "regressor"
      ],
      "metadata": {
        "colab": {
          "base_uri": "https://localhost:8080/"
        },
        "id": "ul4ahwkkBEga",
        "outputId": "6b54a3d3-8db7-4051-e1fd-720f21a6e738"
      },
      "execution_count": 36,
      "outputs": [
        {
          "output_type": "execute_result",
          "data": {
            "text/plain": [
              "LinearRegressionModel: uid=LinearRegression_1f88c8b2e323, numFeatures=3"
            ]
          },
          "metadata": {},
          "execution_count": 36
        }
      ]
    },
    {
      "cell_type": "markdown",
      "source": [
        "## Evaluating the Model"
      ],
      "metadata": {
        "id": "ZFhkb6K0FG81"
      }
    },
    {
      "cell_type": "code",
      "source": [
        "# Metrics: Intercept\n",
        "regressor.intercept"
      ],
      "metadata": {
        "colab": {
          "base_uri": "https://localhost:8080/"
        },
        "id": "JskdDmF7ADVx",
        "outputId": "8cc8678e-655d-4cb1-87a3-16c292e17ea1"
      },
      "execution_count": 37,
      "outputs": [
        {
          "output_type": "execute_result",
          "data": {
            "text/plain": [
              "-27602.144433280344"
            ]
          },
          "metadata": {},
          "execution_count": 37
        }
      ]
    },
    {
      "cell_type": "code",
      "source": [
        "# Metrics: Coefficients\n",
        "regressor.coefficients"
      ],
      "metadata": {
        "colab": {
          "base_uri": "https://localhost:8080/"
        },
        "id": "64HNamNT6PEF",
        "outputId": "45ee57b4-fa20-4cc6-f007-06d35eede411"
      },
      "execution_count": 38,
      "outputs": [
        {
          "output_type": "execute_result",
          "data": {
            "text/plain": [
              "DenseVector([0.0, 52.3357, 0.2306])"
            ]
          },
          "metadata": {},
          "execution_count": 38
        }
      ]
    },
    {
      "cell_type": "code",
      "source": [
        "# Making predictions about the test data\n",
        "predicted_results = regressor.evaluate(test_data)"
      ],
      "metadata": {
        "id": "4kXOU2AxADUA"
      },
      "execution_count": 39,
      "outputs": []
    },
    {
      "cell_type": "code",
      "source": [
        "# Showing \n",
        "predicted_results.predictions.show(3, truncate=False)"
      ],
      "metadata": {
        "colab": {
          "base_uri": "https://localhost:8080/"
        },
        "id": "uaxa5LOtADR7",
        "outputId": "a26c2307-ea6d-4a3a-aeef-0d4fc214a6df"
      },
      "execution_count": 40,
      "outputs": [
        {
          "output_type": "stream",
          "name": "stderr",
          "text": [
            "/usr/local/lib/python3.7/dist-packages/pyspark/sql/context.py:127: FutureWarning: Deprecated in 3.0.0. Use SparkSession.builder.getOrCreate() instead.\n",
            "  FutureWarning\n"
          ]
        },
        {
          "output_type": "stream",
          "name": "stdout",
          "text": [
            "+------------------------------------------------+----------+------------------+\n",
            "|['unix_date', 'store_no_index', 'item_no_index']|net_amount|prediction        |\n",
            "+------------------------------------------------+----------+------------------+\n",
            "|[1.5148512E9,0.0,2.0]                           |10068     |12625.089021775348|\n",
            "|[1.5148512E9,0.0,7.0]                           |5034      |12626.24198227236 |\n",
            "|[1.5148512E9,0.0,7.0]                           |5034      |12626.24198227236 |\n",
            "+------------------------------------------------+----------+------------------+\n",
            "only showing top 3 rows\n",
            "\n"
          ]
        }
      ]
    },
    {
      "cell_type": "code",
      "source": [
        "# Performance Metrics\n",
        "predicted_results.r2, predicted_results.meanAbsoluteError, predicted_results.meanSquaredError"
      ],
      "metadata": {
        "colab": {
          "base_uri": "https://localhost:8080/"
        },
        "id": "HEv-0VJIE7DJ",
        "outputId": "3715cf7e-69d1-483b-9b3f-05cff346352c"
      },
      "execution_count": 41,
      "outputs": [
        {
          "output_type": "execute_result",
          "data": {
            "text/plain": [
              "(0.010587234115849942, 12425.96786245647, 412688343.7109269)"
            ]
          },
          "metadata": {},
          "execution_count": 41
        }
      ]
    },
    {
      "cell_type": "markdown",
      "source": [
        "## Saving the Model"
      ],
      "metadata": {
        "id": "FpZj1nA7FIxY"
      }
    },
    {
      "cell_type": "code",
      "source": [
        "# Saving the model\n",
        "regressor.save('pyspark_regressor_sales_forecasting')"
      ],
      "metadata": {
        "id": "ShlSYfUAGo6R"
      },
      "execution_count": 42,
      "outputs": []
    }
  ]
}