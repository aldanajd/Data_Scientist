{
 "cells": [
  {
   "cell_type": "markdown",
   "metadata": {},
   "source": [
    "# Dependencies"
   ]
  },
  {
   "cell_type": "code",
   "execution_count": 4,
   "metadata": {},
   "outputs": [],
   "source": [
    "import pandas as pd\n",
    "import numpy as np\n",
    "import matplotlib.pyplot as plt\n",
    "import seaborn as sns\n",
    "\n",
    "from sklearn.model_selection import train_test_split, GridSearchCV\n",
    "from sklearn.pipeline import make_pipeline\n",
    "from sklearn.linear_model import Ridge, Lasso, ElasticNet, LinearRegression\n",
    "from sklearn.ensemble import RandomForestRegressor, GradientBoostingRegressor\n",
    "from sklearn.exceptions import NotFittedError\n",
    "from sklearn.metrics import r2_score, mean_absolute_error\n",
    "\n",
    "sns.set_theme()"
   ]
  },
  {
   "cell_type": "markdown",
   "metadata": {},
   "source": [
    "# Loading the Raw Data"
   ]
  },
  {
   "cell_type": "code",
   "execution_count": 6,
   "metadata": {},
   "outputs": [],
   "source": [
    "df = pd.read_csv('gpa_dataset.csv')"
   ]
  },
  {
   "cell_type": "code",
   "execution_count": 7,
   "metadata": {},
   "outputs": [
    {
     "data": {
      "text/html": [
       "<div>\n",
       "<style scoped>\n",
       "    .dataframe tbody tr th:only-of-type {\n",
       "        vertical-align: middle;\n",
       "    }\n",
       "\n",
       "    .dataframe tbody tr th {\n",
       "        vertical-align: top;\n",
       "    }\n",
       "\n",
       "    .dataframe thead th {\n",
       "        text-align: right;\n",
       "    }\n",
       "</style>\n",
       "<table border=\"1\" class=\"dataframe\">\n",
       "  <thead>\n",
       "    <tr style=\"text-align: right;\">\n",
       "      <th></th>\n",
       "      <th>SAT</th>\n",
       "      <th>Rand 1,2,3</th>\n",
       "      <th>GPA</th>\n",
       "    </tr>\n",
       "  </thead>\n",
       "  <tbody>\n",
       "    <tr>\n",
       "      <th>0</th>\n",
       "      <td>1714</td>\n",
       "      <td>1</td>\n",
       "      <td>2.40</td>\n",
       "    </tr>\n",
       "    <tr>\n",
       "      <th>1</th>\n",
       "      <td>1664</td>\n",
       "      <td>3</td>\n",
       "      <td>2.52</td>\n",
       "    </tr>\n",
       "    <tr>\n",
       "      <th>2</th>\n",
       "      <td>1760</td>\n",
       "      <td>3</td>\n",
       "      <td>2.54</td>\n",
       "    </tr>\n",
       "    <tr>\n",
       "      <th>3</th>\n",
       "      <td>1685</td>\n",
       "      <td>3</td>\n",
       "      <td>2.74</td>\n",
       "    </tr>\n",
       "    <tr>\n",
       "      <th>4</th>\n",
       "      <td>1693</td>\n",
       "      <td>2</td>\n",
       "      <td>2.83</td>\n",
       "    </tr>\n",
       "  </tbody>\n",
       "</table>\n",
       "</div>"
      ],
      "text/plain": [
       "    SAT  Rand 1,2,3   GPA\n",
       "0  1714           1  2.40\n",
       "1  1664           3  2.52\n",
       "2  1760           3  2.54\n",
       "3  1685           3  2.74\n",
       "4  1693           2  2.83"
      ]
     },
     "execution_count": 7,
     "metadata": {},
     "output_type": "execute_result"
    }
   ],
   "source": [
    "df.head()"
   ]
  },
  {
   "cell_type": "markdown",
   "metadata": {},
   "source": [
    "# Data Preprocess"
   ]
  },
  {
   "cell_type": "code",
   "execution_count": 12,
   "metadata": {},
   "outputs": [
    {
     "data": {
      "text/html": [
       "<div>\n",
       "<style scoped>\n",
       "    .dataframe tbody tr th:only-of-type {\n",
       "        vertical-align: middle;\n",
       "    }\n",
       "\n",
       "    .dataframe tbody tr th {\n",
       "        vertical-align: top;\n",
       "    }\n",
       "\n",
       "    .dataframe thead th {\n",
       "        text-align: right;\n",
       "    }\n",
       "</style>\n",
       "<table border=\"1\" class=\"dataframe\">\n",
       "  <thead>\n",
       "    <tr style=\"text-align: right;\">\n",
       "      <th></th>\n",
       "      <th>SAT</th>\n",
       "      <th>Rand 1,2,3</th>\n",
       "      <th>GPA</th>\n",
       "    </tr>\n",
       "  </thead>\n",
       "  <tbody>\n",
       "    <tr>\n",
       "      <th>count</th>\n",
       "      <td>84.0</td>\n",
       "      <td>84.0</td>\n",
       "      <td>84.0</td>\n",
       "    </tr>\n",
       "    <tr>\n",
       "      <th>mean</th>\n",
       "      <td>1845.0</td>\n",
       "      <td>2.0</td>\n",
       "      <td>3.0</td>\n",
       "    </tr>\n",
       "    <tr>\n",
       "      <th>std</th>\n",
       "      <td>105.0</td>\n",
       "      <td>1.0</td>\n",
       "      <td>0.0</td>\n",
       "    </tr>\n",
       "    <tr>\n",
       "      <th>min</th>\n",
       "      <td>1634.0</td>\n",
       "      <td>1.0</td>\n",
       "      <td>2.0</td>\n",
       "    </tr>\n",
       "    <tr>\n",
       "      <th>25%</th>\n",
       "      <td>1772.0</td>\n",
       "      <td>1.0</td>\n",
       "      <td>3.0</td>\n",
       "    </tr>\n",
       "    <tr>\n",
       "      <th>50%</th>\n",
       "      <td>1846.0</td>\n",
       "      <td>2.0</td>\n",
       "      <td>3.0</td>\n",
       "    </tr>\n",
       "    <tr>\n",
       "      <th>75%</th>\n",
       "      <td>1934.0</td>\n",
       "      <td>3.0</td>\n",
       "      <td>4.0</td>\n",
       "    </tr>\n",
       "    <tr>\n",
       "      <th>max</th>\n",
       "      <td>2050.0</td>\n",
       "      <td>3.0</td>\n",
       "      <td>4.0</td>\n",
       "    </tr>\n",
       "  </tbody>\n",
       "</table>\n",
       "</div>"
      ],
      "text/plain": [
       "          SAT  Rand 1,2,3   GPA\n",
       "count    84.0        84.0  84.0\n",
       "mean   1845.0         2.0   3.0\n",
       "std     105.0         1.0   0.0\n",
       "min    1634.0         1.0   2.0\n",
       "25%    1772.0         1.0   3.0\n",
       "50%    1846.0         2.0   3.0\n",
       "75%    1934.0         3.0   4.0\n",
       "max    2050.0         3.0   4.0"
      ]
     },
     "execution_count": 12,
     "metadata": {},
     "output_type": "execute_result"
    }
   ],
   "source": [
    "df.describe(include=\"all\").round()"
   ]
  },
  {
   "cell_type": "markdown",
   "metadata": {},
   "source": [
    "# Modeling"
   ]
  },
  {
   "cell_type": "code",
   "execution_count": null,
   "metadata": {},
   "outputs": [],
   "source": [
    "# Splitting features from target\n",
    "x = df.drop(['GPA'], axis=1)\n",
    "y = df['GPA']"
   ]
  },
  {
   "cell_type": "code",
   "execution_count": null,
   "metadata": {},
   "outputs": [
    {
     "data": {
      "text/html": [
       "<div>\n",
       "<style scoped>\n",
       "    .dataframe tbody tr th:only-of-type {\n",
       "        vertical-align: middle;\n",
       "    }\n",
       "\n",
       "    .dataframe tbody tr th {\n",
       "        vertical-align: top;\n",
       "    }\n",
       "\n",
       "    .dataframe thead th {\n",
       "        text-align: right;\n",
       "    }\n",
       "</style>\n",
       "<table border=\"1\" class=\"dataframe\">\n",
       "  <thead>\n",
       "    <tr style=\"text-align: right;\">\n",
       "      <th></th>\n",
       "      <th>SAT</th>\n",
       "      <th>Rand 1,2,3</th>\n",
       "    </tr>\n",
       "  </thead>\n",
       "  <tbody>\n",
       "    <tr>\n",
       "      <th>0</th>\n",
       "      <td>1714</td>\n",
       "      <td>1</td>\n",
       "    </tr>\n",
       "    <tr>\n",
       "      <th>1</th>\n",
       "      <td>1664</td>\n",
       "      <td>3</td>\n",
       "    </tr>\n",
       "    <tr>\n",
       "      <th>2</th>\n",
       "      <td>1760</td>\n",
       "      <td>3</td>\n",
       "    </tr>\n",
       "    <tr>\n",
       "      <th>3</th>\n",
       "      <td>1685</td>\n",
       "      <td>3</td>\n",
       "    </tr>\n",
       "    <tr>\n",
       "      <th>4</th>\n",
       "      <td>1693</td>\n",
       "      <td>2</td>\n",
       "    </tr>\n",
       "  </tbody>\n",
       "</table>\n",
       "</div>"
      ],
      "text/plain": [
       "    SAT  Rand 1,2,3\n",
       "0  1714           1\n",
       "1  1664           3\n",
       "2  1760           3\n",
       "3  1685           3\n",
       "4  1693           2"
      ]
     },
     "execution_count": 14,
     "metadata": {},
     "output_type": "execute_result"
    }
   ],
   "source": [
    "# Features\n",
    "x.head()"
   ]
  },
  {
   "cell_type": "code",
   "execution_count": null,
   "metadata": {},
   "outputs": [
    {
     "data": {
      "text/plain": [
       "0    2.40\n",
       "1    2.52\n",
       "2    2.54\n",
       "3    2.74\n",
       "4    2.83\n",
       "Name: GPA, dtype: float64"
      ]
     },
     "execution_count": 15,
     "metadata": {},
     "output_type": "execute_result"
    }
   ],
   "source": [
    "# Target\n",
    "y.head()"
   ]
  },
  {
   "cell_type": "code",
   "execution_count": null,
   "metadata": {},
   "outputs": [
    {
     "name": "stdout",
     "output_type": "stream",
     "text": [
      "\n",
      "X Train Shape: (67, 2)\n",
      "X Test Shape: (17, 2)\n",
      "Y Train Shape: (67,)\n",
      "Y Test Shape: (17,)\n"
     ]
    }
   ],
   "source": [
    "# Split the data, 80-20\n",
    "x_train, x_test, y_train, y_test = train_test_split(x,y, test_size=0.2, random_state=123)\n",
    "\n",
    "print(f\"\"\"\n",
    "X Train Shape: {x_train.shape}\n",
    "X Test Shape: {x_test.shape}\n",
    "Y Train Shape: {y_train.shape}\n",
    "Y Test Shape: {y_test.shape}\"\"\"\n",
    ")"
   ]
  },
  {
   "cell_type": "code",
   "execution_count": null,
   "metadata": {},
   "outputs": [],
   "source": [
    "# Create a pipeline per model\n",
    "pipelines = {\n",
    "    'ols':make_pipeline(LinearRegression()),\n",
    "    'rf':make_pipeline(RandomForestRegressor(random_state=1234)),\n",
    "    'gb':make_pipeline(GradientBoostingRegressor(random_state=1234)),\n",
    "    'ridge':make_pipeline(Ridge(random_state=1234)),\n",
    "    'lasso':make_pipeline(Lasso(random_state=1234)),\n",
    "    'enet':make_pipeline(ElasticNet(random_state=1234)),\n",
    "}"
   ]
  },
  {
   "cell_type": "code",
   "execution_count": null,
   "metadata": {},
   "outputs": [
    {
     "name": "stdout",
     "output_type": "stream",
     "text": [
      "\n",
      "    Model: ols\n",
      "    Pipeline: Pipeline(steps=[('linearregression', LinearRegression())]))\n",
      "    Params: {'memory': None, 'steps': [('linearregression', LinearRegression())], 'transform_input': None, 'verbose': False, 'linearregression': LinearRegression(), 'linearregression__copy_X': True, 'linearregression__fit_intercept': True, 'linearregression__n_jobs': None, 'linearregression__positive': False}\n",
      "    \n",
      "\n",
      "    Model: rf\n",
      "    Pipeline: Pipeline(steps=[('randomforestregressor',\n",
      "                 RandomForestRegressor(random_state=1234))]))\n",
      "    Params: {'memory': None, 'steps': [('randomforestregressor', RandomForestRegressor(random_state=1234))], 'transform_input': None, 'verbose': False, 'randomforestregressor': RandomForestRegressor(random_state=1234), 'randomforestregressor__bootstrap': True, 'randomforestregressor__ccp_alpha': 0.0, 'randomforestregressor__criterion': 'squared_error', 'randomforestregressor__max_depth': None, 'randomforestregressor__max_features': 1.0, 'randomforestregressor__max_leaf_nodes': None, 'randomforestregressor__max_samples': None, 'randomforestregressor__min_impurity_decrease': 0.0, 'randomforestregressor__min_samples_leaf': 1, 'randomforestregressor__min_samples_split': 2, 'randomforestregressor__min_weight_fraction_leaf': 0.0, 'randomforestregressor__monotonic_cst': None, 'randomforestregressor__n_estimators': 100, 'randomforestregressor__n_jobs': None, 'randomforestregressor__oob_score': False, 'randomforestregressor__random_state': 1234, 'randomforestregressor__verbose': 0, 'randomforestregressor__warm_start': False}\n",
      "    \n",
      "\n",
      "    Model: gb\n",
      "    Pipeline: Pipeline(steps=[('gradientboostingregressor',\n",
      "                 GradientBoostingRegressor(random_state=1234))]))\n",
      "    Params: {'memory': None, 'steps': [('gradientboostingregressor', GradientBoostingRegressor(random_state=1234))], 'transform_input': None, 'verbose': False, 'gradientboostingregressor': GradientBoostingRegressor(random_state=1234), 'gradientboostingregressor__alpha': 0.9, 'gradientboostingregressor__ccp_alpha': 0.0, 'gradientboostingregressor__criterion': 'friedman_mse', 'gradientboostingregressor__init': None, 'gradientboostingregressor__learning_rate': 0.1, 'gradientboostingregressor__loss': 'squared_error', 'gradientboostingregressor__max_depth': 3, 'gradientboostingregressor__max_features': None, 'gradientboostingregressor__max_leaf_nodes': None, 'gradientboostingregressor__min_impurity_decrease': 0.0, 'gradientboostingregressor__min_samples_leaf': 1, 'gradientboostingregressor__min_samples_split': 2, 'gradientboostingregressor__min_weight_fraction_leaf': 0.0, 'gradientboostingregressor__n_estimators': 100, 'gradientboostingregressor__n_iter_no_change': None, 'gradientboostingregressor__random_state': 1234, 'gradientboostingregressor__subsample': 1.0, 'gradientboostingregressor__tol': 0.0001, 'gradientboostingregressor__validation_fraction': 0.1, 'gradientboostingregressor__verbose': 0, 'gradientboostingregressor__warm_start': False}\n",
      "    \n",
      "\n",
      "    Model: ridge\n",
      "    Pipeline: Pipeline(steps=[('ridge', Ridge(random_state=1234))]))\n",
      "    Params: {'memory': None, 'steps': [('ridge', Ridge(random_state=1234))], 'transform_input': None, 'verbose': False, 'ridge': Ridge(random_state=1234), 'ridge__alpha': 1.0, 'ridge__copy_X': True, 'ridge__fit_intercept': True, 'ridge__max_iter': None, 'ridge__positive': False, 'ridge__random_state': 1234, 'ridge__solver': 'auto', 'ridge__tol': 0.0001}\n",
      "    \n",
      "\n",
      "    Model: lasso\n",
      "    Pipeline: Pipeline(steps=[('lasso', Lasso(random_state=1234))]))\n",
      "    Params: {'memory': None, 'steps': [('lasso', Lasso(random_state=1234))], 'transform_input': None, 'verbose': False, 'lasso': Lasso(random_state=1234), 'lasso__alpha': 1.0, 'lasso__copy_X': True, 'lasso__fit_intercept': True, 'lasso__max_iter': 1000, 'lasso__positive': False, 'lasso__precompute': False, 'lasso__random_state': 1234, 'lasso__selection': 'cyclic', 'lasso__tol': 0.0001, 'lasso__warm_start': False}\n",
      "    \n",
      "\n",
      "    Model: enet\n",
      "    Pipeline: Pipeline(steps=[('elasticnet', ElasticNet(random_state=1234))]))\n",
      "    Params: {'memory': None, 'steps': [('elasticnet', ElasticNet(random_state=1234))], 'transform_input': None, 'verbose': False, 'elasticnet': ElasticNet(random_state=1234), 'elasticnet__alpha': 1.0, 'elasticnet__copy_X': True, 'elasticnet__fit_intercept': True, 'elasticnet__l1_ratio': 0.5, 'elasticnet__max_iter': 1000, 'elasticnet__positive': False, 'elasticnet__precompute': False, 'elasticnet__random_state': 1234, 'elasticnet__selection': 'cyclic', 'elasticnet__tol': 0.0001, 'elasticnet__warm_start': False}\n",
      "    \n"
     ]
    }
   ],
   "source": [
    "# Print all the, algorithm, pipelines available and their parameters\n",
    "for algorithm, pipeline in pipelines.items():\n",
    "    print(f\"\"\"\n",
    "    Algorithm: {algorithm}\n",
    "    Pipeline: {pipeline})\n",
    "    Parameters: {v.get_params()}\n",
    "    \"\"\")"
   ]
  },
  {
   "cell_type": "code",
   "execution_count": null,
   "metadata": {},
   "outputs": [],
   "source": [
    "# Parameters to test\n",
    "hypergrid = {\n",
    "    'ols': {\n",
    "        \n",
    "    },\n",
    "    'rf': {\n",
    "        'randomforestregressor__min_samples_split':[2,4,6],\n",
    "        'randomforestregressor__min_samples_leaf':[1,2,3]\n",
    "    },\n",
    "    'gb':{\n",
    "        'gradientboostingregressor__alpha':[0.001, 0.005, 0.01, 0.05, 0.1, 0.5, 0.99]\n",
    "    },\n",
    "    'ridge':{\n",
    "        'ridge__alpha':[0.001, 0.005, 0.01, 0.05, 0.1, 0.5, 0.99]\n",
    "    },\n",
    "    'lasso':{\n",
    "        'lasso__alpha':[0.001, 0.005, 0.01, 0.05, 0.1, 0.5, 0.99]\n",
    "    },\n",
    "    'enet':{\n",
    "        'elasticnet__alpha':[0.001, 0.005, 0.01, 0.05, 0.1, 0.5, 0.99]\n",
    "    }\n",
    "}"
   ]
  },
  {
   "cell_type": "code",
   "execution_count": 64,
   "metadata": {},
   "outputs": [
    {
     "name": "stdout",
     "output_type": "stream",
     "text": [
      "Starting training for *** ols ***\n",
      "ols has been successfully fit\n",
      "Starting training for *** rf ***\n",
      "rf has been successfully fit\n",
      "Starting training for *** gb ***\n",
      "gb has been successfully fit\n",
      "Starting training for *** ridge ***\n",
      "ridge has been successfully fit\n",
      "Starting training for *** lasso ***\n",
      "lasso has been successfully fit\n",
      "Starting training for *** enet ***\n",
      "enet has been successfully fit\n"
     ]
    }
   ],
   "source": [
    "# Empty dictionary to store models\n",
    "fit_models = {}\n",
    "\n",
    "# Train models over a parameter grid\n",
    "for algorithm, pipeline in pipelines.items():\n",
    "    # Optimize by cross-validated grid-search over a parameter grid\n",
    "    model = GridSearchCV(pipeline, hypergrid[algorithm], cv=10, n_jobs=-1)\n",
    "    try:\n",
    "        print(f\"Starting training for *** {algorithm} ***\")\n",
    "        model.fit(x_train, y_train)\n",
    "        fit_models[algorithm] = model\n",
    "        print(f\"{algorithm} has been successfully fit\")\n",
    "    except NotFittedError as e:\n",
    "        print(repr(e))"
   ]
  },
  {
   "cell_type": "code",
   "execution_count": 65,
   "metadata": {},
   "outputs": [
    {
     "data": {
      "text/plain": [
       "array([3.46565932, 3.06012079, 3.05840935, 3.47090242, 3.39575139,\n",
       "       3.21916134, 3.60190728, 3.50236099, 3.49180228, 3.30836647,\n",
       "       3.23143149, 3.46387537, 3.32060036, 3.35373411, 3.12307419,\n",
       "       3.30133942, 3.56171022])"
      ]
     },
     "execution_count": 65,
     "metadata": {},
     "output_type": "execute_result"
    }
   ],
   "source": [
    "fit_models['ridge'].predict(x_test)"
   ]
  },
  {
   "cell_type": "markdown",
   "metadata": {},
   "source": [
    "# Evaluation"
   ]
  },
  {
   "cell_type": "code",
   "execution_count": 66,
   "metadata": {},
   "outputs": [
    {
     "name": "stdout",
     "output_type": "stream",
     "text": [
      "ols scores - R2:0.09364110349969523 MAE:0.2105938904380252\n",
      "rf scores - R2:0.0461507309337682 MAE:0.21251312795048066\n",
      "gb scores - R2:0.03968361711467605 MAE:0.20961526136195452\n",
      "ridge scores - R2:0.09374606143119202 MAE:0.21059843065140413\n",
      "lasso scores - R2:0.1105533689249415 MAE:0.20997577989214344\n",
      "enet scores - R2:0.10411696898210498 MAE:0.21039795286061125\n"
     ]
    }
   ],
   "source": [
    "df_model_evaluation = pd.DataFrame(columns=['Algo', 'R2 Score', 'Mean Absolute Error'])\n",
    "index = 0\n",
    "\n",
    "for algo,model in fit_models.items():\n",
    "    yhat = model.predict(x_test)\n",
    "    print('{} scores - R2:{} MAE:{}'.format(algo, r2_score(y_test, yhat), mean_absolute_error(y_test, yhat)))\n",
    "    \n",
    "    index += 1\n",
    "    df_model_evaluation.loc[index] = [algo, r2_score(y_test, yhat), mean_absolute_error(y_test, yhat)]"
   ]
  },
  {
   "cell_type": "code",
   "execution_count": 98,
   "metadata": {},
   "outputs": [
    {
     "data": {
      "text/html": [
       "<div>\n",
       "<style scoped>\n",
       "    .dataframe tbody tr th:only-of-type {\n",
       "        vertical-align: middle;\n",
       "    }\n",
       "\n",
       "    .dataframe tbody tr th {\n",
       "        vertical-align: top;\n",
       "    }\n",
       "\n",
       "    .dataframe thead th {\n",
       "        text-align: right;\n",
       "    }\n",
       "</style>\n",
       "<table border=\"1\" class=\"dataframe\">\n",
       "  <thead>\n",
       "    <tr style=\"text-align: right;\">\n",
       "      <th></th>\n",
       "      <th>Algo</th>\n",
       "      <th>R2 Score</th>\n",
       "      <th>Mean Absolute Error</th>\n",
       "    </tr>\n",
       "  </thead>\n",
       "  <tbody>\n",
       "    <tr>\n",
       "      <th>0</th>\n",
       "      <td>ridge</td>\n",
       "      <td>0.324965</td>\n",
       "      <td>0.202332</td>\n",
       "    </tr>\n",
       "    <tr>\n",
       "      <th>1</th>\n",
       "      <td>ols</td>\n",
       "      <td>0.324952</td>\n",
       "      <td>0.202332</td>\n",
       "    </tr>\n",
       "    <tr>\n",
       "      <th>2</th>\n",
       "      <td>enet</td>\n",
       "      <td>0.324122</td>\n",
       "      <td>0.202590</td>\n",
       "    </tr>\n",
       "    <tr>\n",
       "      <th>3</th>\n",
       "      <td>lasso</td>\n",
       "      <td>0.322918</td>\n",
       "      <td>0.202856</td>\n",
       "    </tr>\n",
       "    <tr>\n",
       "      <th>4</th>\n",
       "      <td>gb</td>\n",
       "      <td>0.305686</td>\n",
       "      <td>0.205583</td>\n",
       "    </tr>\n",
       "    <tr>\n",
       "      <th>5</th>\n",
       "      <td>rf</td>\n",
       "      <td>0.254759</td>\n",
       "      <td>0.215273</td>\n",
       "    </tr>\n",
       "  </tbody>\n",
       "</table>\n",
       "</div>"
      ],
      "text/plain": [
       "    Algo  R2 Score  Mean Absolute Error\n",
       "0  ridge  0.324965             0.202332\n",
       "1    ols  0.324952             0.202332\n",
       "2   enet  0.324122             0.202590\n",
       "3  lasso  0.322918             0.202856\n",
       "4     gb  0.305686             0.205583\n",
       "5     rf  0.254759             0.215273"
      ]
     },
     "execution_count": 98,
     "metadata": {},
     "output_type": "execute_result"
    }
   ],
   "source": [
    "df_model_evaluation = df_model_evaluation.sort_values(by='R2 Score', ascending=False).reset_index(drop= True)\n",
    "df_model_evaluation"
   ]
  },
  {
   "cell_type": "code",
   "execution_count": 99,
   "metadata": {},
   "outputs": [
    {
     "data": {
      "text/plain": [
       "RangeIndex(start=0, stop=6, step=1)"
      ]
     },
     "execution_count": 99,
     "metadata": {},
     "output_type": "execute_result"
    }
   ],
   "source": [
    "df_model_evaluation.index"
   ]
  },
  {
   "cell_type": "code",
   "execution_count": 100,
   "metadata": {},
   "outputs": [
    {
     "data": {
      "image/png": "[encoded data removed]",
      "text/plain": [
       "<Figure size 432x288 with 1 Axes>"
      ]
     },
     "metadata": {},
     "output_type": "display_data"
    }
   ],
   "source": [
    "plt.clf()\n",
    "barwidth = 0.4\n",
    "x_plot_1 = df_model_evaluation.index\n",
    "x_plot_2 = x_plot_1+barwidth\n",
    "y_plot_1 = df_model_evaluation['R2 Score']\n",
    "y_plot_2 = df_model_evaluation['Mean Absolute Error']\n",
    "x_ticks = df_model_evaluation['Algo']\n",
    "\n",
    "plt.bar(x_plot_1, y_plot_1, width=barwidth, color='C254', label= 'R2 Score')\n",
    "plt.bar(x_plot_2, y_plot_2, width=barwidth, color='C250', label= 'Mean Absolute Error')\n",
    "plt.xticks(x_plot_1+barwidth/2, x_ticks)\n",
    "plt.ylim(0,1) \n",
    "plt.legend()\n",
    "plt.show()"
   ]
  },
  {
   "cell_type": "code",
   "execution_count": 101,
   "metadata": {},
   "outputs": [
    {
     "data": {
      "text/plain": [
       "'ridge'"
      ]
     },
     "execution_count": 101,
     "metadata": {},
     "output_type": "execute_result"
    }
   ],
   "source": [
    "best_model = df_model_evaluation.iloc[0,0]\n",
    "best_model"
   ]
  }
 ],
 "metadata": {
  "kernelspec": {
   "display_name": ".venv",
   "language": "python",
   "name": "python3"
  },
  "language_info": {
   "codemirror_mode": {
    "name": "ipython",
    "version": 3
   },
   "file_extension": ".py",
   "mimetype": "text/x-python",
   "name": "python",
   "nbconvert_exporter": "python",
   "pygments_lexer": "ipython3",
   "version": "3.12.7"
  },
  "orig_nbformat": 4
 },
 "nbformat": 4,
 "nbformat_minor": 2
}
