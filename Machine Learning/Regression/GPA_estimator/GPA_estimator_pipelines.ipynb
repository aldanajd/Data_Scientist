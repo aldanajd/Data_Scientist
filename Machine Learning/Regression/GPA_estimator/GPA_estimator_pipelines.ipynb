{
 "cells": [
  {
   "cell_type": "markdown",
   "metadata": {},
   "source": [
    "# Dependencies"
   ]
  },
  {
   "cell_type": "code",
   "execution_count": 88,
   "metadata": {},
   "outputs": [],
   "source": [
    "import pandas as pd\n",
    "import numpy as np\n",
    "import matplotlib.pyplot as plt\n",
    "import seaborn as sns\n",
    "\n",
    "from sklearn.model_selection import train_test_split, GridSearchCV\n",
    "from sklearn.pipeline import make_pipeline\n",
    "from sklearn.linear_model import Ridge, Lasso, ElasticNet, LinearRegression\n",
    "from sklearn.ensemble import RandomForestRegressor, GradientBoostingRegressor\n",
    "from sklearn.exceptions import NotFittedError\n",
    "from sklearn.metrics import r2_score, mean_absolute_error\n",
    "\n",
    "sns.set()"
   ]
  },
  {
   "cell_type": "markdown",
   "metadata": {},
   "source": [
    "# Data Preprocess"
   ]
  },
  {
   "cell_type": "code",
   "execution_count": 89,
   "metadata": {},
   "outputs": [
    {
     "data": {
      "text/plain": [
       "(    SAT  Rand 1,2,3   GPA\n",
       " 0  1714           1  2.40\n",
       " 1  1664           3  2.52\n",
       " 2  1760           3  2.54\n",
       " 3  1685           3  2.74\n",
       " 4  1693           2  2.83,\n",
       " 84)"
      ]
     },
     "execution_count": 89,
     "metadata": {},
     "output_type": "execute_result"
    }
   ],
   "source": [
    "df = pd.read_csv('mlr_dataset.csv')\n",
    "df.head(),len(df)"
   ]
  },
  {
   "cell_type": "markdown",
   "metadata": {},
   "source": [
    "# Modelling"
   ]
  },
  {
   "cell_type": "code",
   "execution_count": 90,
   "metadata": {},
   "outputs": [
    {
     "data": {
      "text/plain": [
       "(    SAT  Rand 1,2,3\n",
       " 0  1714           1\n",
       " 1  1664           3\n",
       " 2  1760           3\n",
       " 3  1685           3\n",
       " 4  1693           2,\n",
       " 0    2.40\n",
       " 1    2.52\n",
       " 2    2.54\n",
       " 3    2.74\n",
       " 4    2.83\n",
       " Name: GPA, dtype: float64)"
      ]
     },
     "execution_count": 90,
     "metadata": {},
     "output_type": "execute_result"
    }
   ],
   "source": [
    "x = df.drop(['GPA'], axis=1)\n",
    "y = df['GPA']\n",
    "x.head(),y.head()"
   ]
  },
  {
   "cell_type": "code",
   "execution_count": 91,
   "metadata": {},
   "outputs": [
    {
     "name": "stdout",
     "output_type": "stream",
     "text": [
      "(71, 2) (13, 2) (71,) (13,)\n"
     ]
    }
   ],
   "source": [
    "x_train, x_test, y_train, y_test = train_test_split(x,y, test_size=0.15, random_state=123)\n",
    "\n",
    "print (x_train.shape, x_test.shape, y_train.shape, y_test.shape)"
   ]
  },
  {
   "cell_type": "code",
   "execution_count": 92,
   "metadata": {},
   "outputs": [
    {
     "data": {
      "text/plain": [
       "{'ols': Pipeline(steps=[('linearregression', LinearRegression())]),\n",
       " 'rf': Pipeline(steps=[('randomforestregressor',\n",
       "                  RandomForestRegressor(random_state=1234))]),\n",
       " 'gb': Pipeline(steps=[('gradientboostingregressor',\n",
       "                  GradientBoostingRegressor(random_state=1234))]),\n",
       " 'ridge': Pipeline(steps=[('ridge', Ridge(random_state=1234))]),\n",
       " 'lasso': Pipeline(steps=[('lasso', Lasso(random_state=1234))]),\n",
       " 'enet': Pipeline(steps=[('elasticnet', ElasticNet(random_state=1234))])}"
      ]
     },
     "execution_count": 92,
     "metadata": {},
     "output_type": "execute_result"
    }
   ],
   "source": [
    "pipelines = {\n",
    "    'ols':make_pipeline(LinearRegression()),\n",
    "    'rf':make_pipeline(RandomForestRegressor(random_state=1234)),\n",
    "    'gb':make_pipeline(GradientBoostingRegressor(random_state=1234)),\n",
    "    'ridge':make_pipeline(Ridge(random_state=1234)),\n",
    "    'lasso':make_pipeline(Lasso(random_state=1234)),\n",
    "    'enet':make_pipeline(ElasticNet(random_state=1234)),\n",
    "}\n",
    "\n",
    "pipelines"
   ]
  },
  {
   "cell_type": "code",
   "execution_count": 93,
   "metadata": {},
   "outputs": [
    {
     "data": {
      "text/plain": [
       "{'memory': None,\n",
       " 'steps': [('linearregression', LinearRegression())],\n",
       " 'verbose': False,\n",
       " 'linearregression': LinearRegression(),\n",
       " 'linearregression__copy_X': True,\n",
       " 'linearregression__fit_intercept': True,\n",
       " 'linearregression__n_jobs': None,\n",
       " 'linearregression__normalize': 'deprecated',\n",
       " 'linearregression__positive': False}"
      ]
     },
     "execution_count": 93,
     "metadata": {},
     "output_type": "execute_result"
    }
   ],
   "source": [
    "pipelines['ols'].get_params()"
   ]
  },
  {
   "cell_type": "code",
   "execution_count": 94,
   "metadata": {},
   "outputs": [],
   "source": [
    "hypergrid = {\n",
    "    'ols': {              \n",
    "    },\n",
    "    'rf': {\n",
    "        'randomforestregressor__min_samples_split':[2,4,6],\n",
    "        'randomforestregressor__min_samples_leaf':[1,2,3]\n",
    "    },\n",
    "    'gb':{\n",
    "        'gradientboostingregressor__alpha':[0.001, 0.005, 0.01, 0.05, 0.1, 0.5, 0.99]\n",
    "    },\n",
    "    'ridge':{\n",
    "        'ridge__alpha':[0.001, 0.005, 0.01, 0.05, 0.1, 0.5, 0.99]\n",
    "    },\n",
    "    'lasso':{\n",
    "        'lasso__alpha':[0.001, 0.005, 0.01, 0.05, 0.1, 0.5, 0.99]\n",
    "    },\n",
    "    'enet':{\n",
    "        'elasticnet__alpha':[0.001, 0.005, 0.01, 0.05, 0.1, 0.5, 0.99]\n",
    "    }\n",
    "}"
   ]
  },
  {
   "cell_type": "code",
   "execution_count": 95,
   "metadata": {},
   "outputs": [
    {
     "name": "stdout",
     "output_type": "stream",
     "text": [
      "Starting training for ols.\n",
      "ols has been successfully fit.\n",
      "Starting training for rf.\n",
      "rf has been successfully fit.\n",
      "Starting training for gb.\n",
      "gb has been successfully fit.\n",
      "Starting training for ridge.\n",
      "ridge has been successfully fit.\n",
      "Starting training for lasso.\n",
      "lasso has been successfully fit.\n",
      "Starting training for enet.\n",
      "enet has been successfully fit.\n"
     ]
    }
   ],
   "source": [
    "fit_models = {}\n",
    "for algo, pipeline in pipelines.items():\n",
    "    model = GridSearchCV(pipeline, hypergrid[algo], cv=10, n_jobs=-1)\n",
    "    try:\n",
    "        print('Starting training for {}.'.format(algo))\n",
    "        model.fit(x_train, y_train)\n",
    "        fit_models[algo] = model\n",
    "        print('{} has been successfully fit.'.format(algo))\n",
    "    except NotFittedError as e:\n",
    "        print(repr(e))"
   ]
  },
  {
   "cell_type": "code",
   "execution_count": 96,
   "metadata": {},
   "outputs": [
    {
     "data": {
      "text/plain": [
       "array([3.46409181, 3.07673371, 3.07798748, 3.46902579, 3.39830539,\n",
       "       3.22639781, 3.58657846, 3.49862968, 3.48296485, 3.31607237,\n",
       "       3.24080887, 3.45954872, 3.32758499])"
      ]
     },
     "execution_count": 96,
     "metadata": {},
     "output_type": "execute_result"
    }
   ],
   "source": [
    "fit_models['ridge'].predict(x_test)"
   ]
  },
  {
   "cell_type": "markdown",
   "metadata": {},
   "source": [
    "# Evaluation"
   ]
  },
  {
   "cell_type": "code",
   "execution_count": 97,
   "metadata": {},
   "outputs": [
    {
     "name": "stdout",
     "output_type": "stream",
     "text": [
      "ols scores - R2:0.3249523992198182 MAE:0.20233238783903187\n",
      "rf scores - R2:0.2547585015738949 MAE:0.21527279359529342\n",
      "gb scores - R2:0.3056864775447753 MAE:0.20558319671057643\n",
      "ridge scores - R2:0.3249650132425227 MAE:0.20233224966436786\n",
      "lasso scores - R2:0.32291815653921385 MAE:0.20285550042559714\n",
      "enet scores - R2:0.3241219533965122 MAE:0.202590457625799\n"
     ]
    }
   ],
   "source": [
    "df_model_evaluation = pd.DataFrame(columns=['Algo', 'R2 Score', 'Mean Absolute Error'])\n",
    "index = 0\n",
    "\n",
    "for algo,model in fit_models.items():\n",
    "    yhat = model.predict(x_test)\n",
    "    print('{} scores - R2:{} MAE:{}'.format(algo, r2_score(y_test, yhat), mean_absolute_error(y_test, yhat)))\n",
    "    \n",
    "    index += 1\n",
    "    df_model_evaluation.loc[index] = [algo, r2_score(y_test, yhat), mean_absolute_error(y_test, yhat)]"
   ]
  },
  {
   "cell_type": "code",
   "execution_count": 98,
   "metadata": {},
   "outputs": [
    {
     "data": {
      "text/html": [
       "<div>\n",
       "<style scoped>\n",
       "    .dataframe tbody tr th:only-of-type {\n",
       "        vertical-align: middle;\n",
       "    }\n",
       "\n",
       "    .dataframe tbody tr th {\n",
       "        vertical-align: top;\n",
       "    }\n",
       "\n",
       "    .dataframe thead th {\n",
       "        text-align: right;\n",
       "    }\n",
       "</style>\n",
       "<table border=\"1\" class=\"dataframe\">\n",
       "  <thead>\n",
       "    <tr style=\"text-align: right;\">\n",
       "      <th></th>\n",
       "      <th>Algo</th>\n",
       "      <th>R2 Score</th>\n",
       "      <th>Mean Absolute Error</th>\n",
       "    </tr>\n",
       "  </thead>\n",
       "  <tbody>\n",
       "    <tr>\n",
       "      <th>0</th>\n",
       "      <td>ridge</td>\n",
       "      <td>0.324965</td>\n",
       "      <td>0.202332</td>\n",
       "    </tr>\n",
       "    <tr>\n",
       "      <th>1</th>\n",
       "      <td>ols</td>\n",
       "      <td>0.324952</td>\n",
       "      <td>0.202332</td>\n",
       "    </tr>\n",
       "    <tr>\n",
       "      <th>2</th>\n",
       "      <td>enet</td>\n",
       "      <td>0.324122</td>\n",
       "      <td>0.202590</td>\n",
       "    </tr>\n",
       "    <tr>\n",
       "      <th>3</th>\n",
       "      <td>lasso</td>\n",
       "      <td>0.322918</td>\n",
       "      <td>0.202856</td>\n",
       "    </tr>\n",
       "    <tr>\n",
       "      <th>4</th>\n",
       "      <td>gb</td>\n",
       "      <td>0.305686</td>\n",
       "      <td>0.205583</td>\n",
       "    </tr>\n",
       "    <tr>\n",
       "      <th>5</th>\n",
       "      <td>rf</td>\n",
       "      <td>0.254759</td>\n",
       "      <td>0.215273</td>\n",
       "    </tr>\n",
       "  </tbody>\n",
       "</table>\n",
       "</div>"
      ],
      "text/plain": [
       "    Algo  R2 Score  Mean Absolute Error\n",
       "0  ridge  0.324965             0.202332\n",
       "1    ols  0.324952             0.202332\n",
       "2   enet  0.324122             0.202590\n",
       "3  lasso  0.322918             0.202856\n",
       "4     gb  0.305686             0.205583\n",
       "5     rf  0.254759             0.215273"
      ]
     },
     "execution_count": 98,
     "metadata": {},
     "output_type": "execute_result"
    }
   ],
   "source": [
    "df_model_evaluation = df_model_evaluation.sort_values(by='R2 Score', ascending=False).reset_index(drop= True)\n",
    "df_model_evaluation"
   ]
  },
  {
   "cell_type": "code",
   "execution_count": 99,
   "metadata": {},
   "outputs": [
    {
     "data": {
      "text/plain": [
       "RangeIndex(start=0, stop=6, step=1)"
      ]
     },
     "execution_count": 99,
     "metadata": {},
     "output_type": "execute_result"
    }
   ],
   "source": [
    "df_model_evaluation.index"
   ]
  },
  {
   "cell_type": "code",
   "execution_count": 100,
   "metadata": {},
   "outputs": [
    {
     "data": {
      "image/png": "[encoded data removed]",
      "text/plain": [
       "<Figure size 432x288 with 1 Axes>"
      ]
     },
     "metadata": {},
     "output_type": "display_data"
    }
   ],
   "source": [
    "plt.clf()\n",
    "barwidth = 0.4\n",
    "x_plot_1 = df_model_evaluation.index\n",
    "x_plot_2 = x_plot_1+barwidth\n",
    "y_plot_1 = df_model_evaluation['R2 Score']\n",
    "y_plot_2 = df_model_evaluation['Mean Absolute Error']\n",
    "x_ticks = df_model_evaluation['Algo']\n",
    "\n",
    "plt.bar(x_plot_1, y_plot_1, width=barwidth, color='C254', label= 'R2 Score')\n",
    "plt.bar(x_plot_2, y_plot_2, width=barwidth, color='C250', label= 'Mean Absolute Error')\n",
    "plt.xticks(x_plot_1+barwidth/2, x_ticks)\n",
    "plt.ylim(0,1) \n",
    "plt.legend()\n",
    "plt.show()"
   ]
  },
  {
   "cell_type": "code",
   "execution_count": 101,
   "metadata": {},
   "outputs": [
    {
     "data": {
      "text/plain": [
       "'ridge'"
      ]
     },
     "execution_count": 101,
     "metadata": {},
     "output_type": "execute_result"
    }
   ],
   "source": [
    "best_model = df_model_evaluation.iloc[0,0]\n",
    "best_model"
   ]
  }
 ],
 "metadata": {
  "interpreter": {
   "hash": "68749b7030e897e72c4425720083107a5a3e635b3712c01bd7bce6993c8d6b19"
  },
  "kernelspec": {
   "display_name": "Python 3.10.1 64-bit",
   "language": "python",
   "name": "python3"
  },
  "language_info": {
   "codemirror_mode": {
    "name": "ipython",
    "version": 3
   },
   "file_extension": ".py",
   "mimetype": "text/x-python",
   "name": "python",
   "nbconvert_exporter": "python",
   "pygments_lexer": "ipython3",
   "version": "3.10.1"
  },
  "orig_nbformat": 4
 },
 "nbformat": 4,
 "nbformat_minor": 2
}
