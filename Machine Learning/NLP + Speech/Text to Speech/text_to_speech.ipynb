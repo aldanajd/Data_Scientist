{
 "cells": [
  {
   "cell_type": "markdown",
   "metadata": {
    "cell_id": "ca865742-b83f-4e7a-950e-40acca2c66e6",
    "deepnote_cell_type": "markdown",
    "tags": []
   },
   "source": [
    "Documentation\n",
    "\n",
    "\n",
    "* IPython Display Audio: https://ipython.readthedocs.io/en/stable/api/generated/IPython.display.html\n",
    "* Binary Filepath: https://docs.python.org/3/library/io.html\n",
    "* gTTS: https://gtts.readthedocs.io/en/latest/module.html"
   ]
  },
  {
   "cell_type": "markdown",
   "metadata": {
    "cell_id": "80dad083-a11d-4527-ba1d-ce38a3094c4b",
    "deepnote_cell_type": "text-cell-h3",
    "is_collapsed": false,
    "tags": []
   },
   "source": [
    "### Dependencies"
   ]
  },
  {
   "cell_type": "code",
   "execution_count": 1,
   "metadata": {
    "cell_id": "5d9afbf9-0c5b-4db0-b49b-222fa98f3cc9",
    "deepnote_cell_type": "code",
    "deepnote_to_be_reexecuted": false,
    "execution_millis": 46,
    "execution_start": 1646171040775,
    "source_hash": "8fa59e21",
    "tags": []
   },
   "outputs": [],
   "source": [
    "from gtts import gTTS\n",
    "from IPython.display import Audio\n",
    "from io import BytesIO"
   ]
  },
  {
   "cell_type": "markdown",
   "metadata": {
    "cell_id": "85ded26d-c424-4e17-a1fd-5dfeca10afa9",
    "deepnote_cell_type": "text-cell-h3",
    "is_collapsed": false,
    "tags": []
   },
   "source": [
    "### Defining Variables/Instances"
   ]
  },
  {
   "cell_type": "code",
   "execution_count": 2,
   "metadata": {
    "cell_id": "c7890d54-7b43-4e2a-bcac-c4c14511b097",
    "deepnote_cell_type": "code",
    "deepnote_to_be_reexecuted": false,
    "execution_millis": 2,
    "execution_start": 1646171040822,
    "source_hash": "9b44f234",
    "tags": []
   },
   "outputs": [],
   "source": [
    "# \"\"\" text \"\"\" to merge strings from different lines\n",
    "input_text = \"\"\"hi, this is a test... testing\"\"\"\n",
    "mp3_fp = BytesIO()"
   ]
  },
  {
   "cell_type": "code",
   "execution_count": 3,
   "metadata": {
    "cell_id": "2eac7669-b94b-47b6-bb7e-dea1d1ea7660",
    "deepnote_cell_type": "input-select",
    "deepnote_to_be_reexecuted": false,
    "deepnote_variable_custom_options": [
     "en",
     "es"
    ],
    "deepnote_variable_name": "Language",
    "deepnote_variable_options": [
     "en",
     "es"
    ],
    "deepnote_variable_select_type": "from-options",
    "deepnote_variable_selected_variable": "",
    "deepnote_variable_value": "en",
    "execution_millis": 1,
    "execution_start": 1646171040824,
    "source_hash": "a8a6bf2c"
   },
   "outputs": [],
   "source": [
    "# https://gtts.readthedocs.io/en/latest/module.html#languages-gtts-lang\n",
    "Language = 'en'"
   ]
  },
  {
   "cell_type": "code",
   "execution_count": 4,
   "metadata": {
    "cell_id": "243dd525-57bd-419e-a9c7-c2b1a24e4f36",
    "deepnote_cell_type": "code",
    "deepnote_to_be_reexecuted": false,
    "execution_millis": 0,
    "execution_start": 1646171040826,
    "source_hash": "a7283f42",
    "tags": []
   },
   "outputs": [],
   "source": [
    "#Text to MP3\n",
    "tts = gTTS(input_text, lang=Language, tld='com.mx')"
   ]
  },
  {
   "cell_type": "markdown",
   "metadata": {
    "cell_id": "23e36f75-66f5-4e48-ac2b-40a76bab58e1",
    "deepnote_cell_type": "text-cell-p",
    "is_collapsed": false,
    "tags": []
   },
   "source": [
    "MP3 to Binary"
   ]
  },
  {
   "cell_type": "code",
   "execution_count": 5,
   "metadata": {
    "cell_id": "a1426ce7-db74-4b6a-a5a5-4d49058510bf",
    "deepnote_cell_type": "code",
    "deepnote_to_be_reexecuted": false,
    "execution_millis": 344,
    "execution_start": 1646171040828,
    "source_hash": "d0918a70",
    "tags": []
   },
   "outputs": [],
   "source": [
    "mp3_fp = BytesIO()\n",
    "tts.write_to_fp(mp3_fp)\n",
    "tts.save('test_tts.mp3')"
   ]
  },
  {
   "cell_type": "markdown",
   "metadata": {
    "cell_id": "138bc773-e141-4aa0-aa5d-1a8efe842156",
    "deepnote_cell_type": "text-cell-h3",
    "is_collapsed": false,
    "tags": []
   },
   "source": [
    "### Binary to Audio"
   ]
  },
  {
   "cell_type": "code",
   "execution_count": 6,
   "metadata": {
    "cell_id": "53e5b0d4-8d59-4cc4-9d5b-47f2fcab2bac",
    "deepnote_cell_type": "code",
    "deepnote_to_be_reexecuted": false,
    "execution_millis": 13,
    "execution_start": 1646171041182,
    "source_hash": "30f7b93b",
    "tags": []
   },
   "outputs": [
    {
     "data": {
      "text/html": [
       "\n",
       "                <audio  controls=\"controls\" >\n",
       "                    <source src=\"data:audio/wav;base64,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\" type=\"audio/wav\" />\n",
       "                    Your browser does not support the audio element.\n",
       "                </audio>\n",
       "              "
      ],
      "text/plain": [
       "<IPython.lib.display.Audio object>"
      ]
     },
     "execution_count": 6,
     "metadata": {},
     "output_type": "execute_result"
    }
   ],
   "source": [
    "#This was the tricky part, playing it directly from the notebook \n",
    "#instead of downloading it as a MP3 then playing it into the notebook\n",
    "Audio(mp3_fp.getvalue())"
   ]
  }
 ],
 "metadata": {
  "deepnote": {
   "is_reactive": false
  },
  "deepnote_execution_queue": [],
  "deepnote_notebook_id": "fee35360-60d4-40e3-a395-dca7daf2a294",
  "language_info": {
   "name": "python"
  },
  "orig_nbformat": 2
 },
 "nbformat": 4,
 "nbformat_minor": 2
}
