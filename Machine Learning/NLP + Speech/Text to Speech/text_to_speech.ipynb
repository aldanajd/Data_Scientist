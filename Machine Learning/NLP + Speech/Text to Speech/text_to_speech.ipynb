{
 "cells": [
  {
   "cell_type": "markdown",
   "metadata": {
    "cell_id": "ca865742-b83f-4e7a-950e-40acca2c66e6",
    "deepnote_cell_type": "markdown",
    "tags": []
   },
   "source": [
    "Documentation\n",
    "\n",
    "\n",
    "* IPython Display Audio: https://ipython.readthedocs.io/en/stable/api/generated/IPython.display.html\n",
    "* Binary Filepath: https://docs.python.org/3/library/io.html\n",
    "* gTTS: https://gtts.readthedocs.io/en/latest/module.html"
   ]
  },
  {
   "cell_type": "code",
   "execution_count": null,
   "metadata": {
    "cell_id": "5d9afbf9-0c5b-4db0-b49b-222fa98f3cc9",
    "deepnote_cell_type": "code",
    "deepnote_to_be_reexecuted": false,
    "execution_millis": 46,
    "execution_start": 1646171040775,
    "source_hash": "8fa59e21",
    "tags": []
   },
   "outputs": [],
   "source": [
    "# Requirements\n",
    "from gtts import gTTS\n",
    "from IPython.display import Audio\n",
    "from io import BytesIO"
   ]
  },
  {
   "cell_type": "code",
   "execution_count": null,
   "metadata": {
    "cell_id": "c7890d54-7b43-4e2a-bcac-c4c14511b097",
    "deepnote_cell_type": "code",
    "deepnote_to_be_reexecuted": false,
    "execution_millis": 2,
    "execution_start": 1646171040822,
    "source_hash": "9b44f234",
    "tags": []
   },
   "outputs": [],
   "source": [
    "# \"\"\" text \"\"\" to merge strings from different lines\n",
    "input_text = \"\"\"\n",
    "This is a test... Testing\n",
    "\"\"\""
   ]
  },
  {
   "cell_type": "markdown",
   "metadata": {},
   "source": [
    "Language options: https://gtts.readthedocs.io/en/latest/module.html#languages-gtts-lang"
   ]
  },
  {
   "cell_type": "code",
   "execution_count": null,
   "metadata": {
    "cell_id": "2eac7669-b94b-47b6-bb7e-dea1d1ea7660",
    "deepnote_cell_type": "input-select",
    "deepnote_to_be_reexecuted": false,
    "deepnote_variable_custom_options": [
     "en",
     "es"
    ],
    "deepnote_variable_name": "Language",
    "deepnote_variable_options": [
     "en",
     "es"
    ],
    "deepnote_variable_select_type": "from-options",
    "deepnote_variable_selected_variable": "",
    "deepnote_variable_value": "en",
    "execution_millis": 1,
    "execution_start": 1646171040824,
    "source_hash": "a8a6bf2c"
   },
   "outputs": [],
   "source": [
    "# Defining the language: \"en\" = english\n",
    "language = \"en\""
   ]
  },
  {
   "cell_type": "code",
   "execution_count": null,
   "metadata": {
    "cell_id": "243dd525-57bd-419e-a9c7-c2b1a24e4f36",
    "deepnote_cell_type": "code",
    "deepnote_to_be_reexecuted": false,
    "execution_millis": 0,
    "execution_start": 1646171040826,
    "source_hash": "a7283f42",
    "tags": []
   },
   "outputs": [],
   "source": [
    "# Text to MP3\n",
    "tts = gTTS(input_text, lang=language, tld=\"com.mx\")"
   ]
  },
  {
   "cell_type": "markdown",
   "metadata": {
    "cell_id": "23e36f75-66f5-4e48-ac2b-40a76bab58e1",
    "deepnote_cell_type": "text-cell-p",
    "is_collapsed": false,
    "tags": []
   },
   "source": [
    "MP3 to Binary"
   ]
  },
  {
   "cell_type": "code",
   "execution_count": null,
   "metadata": {
    "cell_id": "a1426ce7-db74-4b6a-a5a5-4d49058510bf",
    "deepnote_cell_type": "code",
    "deepnote_to_be_reexecuted": false,
    "execution_millis": 344,
    "execution_start": 1646171040828,
    "source_hash": "d0918a70",
    "tags": []
   },
   "outputs": [],
   "source": [
    "# Create a bytes object\n",
    "mp3_fp = BytesIO()\n",
    "\n",
    "# Save the mp3 audio in the bytes object\n",
    "tts.write_to_fp(mp3_fp)"
   ]
  },
  {
   "cell_type": "markdown",
   "metadata": {
    "cell_id": "138bc773-e141-4aa0-aa5d-1a8efe842156",
    "deepnote_cell_type": "text-cell-h3",
    "is_collapsed": false,
    "tags": []
   },
   "source": [
    "### Binary to Audio"
   ]
  },
  {
   "cell_type": "markdown",
   "metadata": {},
   "source": [
    "This was the tricky part, playing it directly from the notebook instead of downloading it as a MP3 then playing it into the notebook"
   ]
  },
  {
   "cell_type": "code",
   "execution_count": null,
   "metadata": {
    "cell_id": "53e5b0d4-8d59-4cc4-9d5b-47f2fcab2bac",
    "deepnote_cell_type": "code",
    "deepnote_to_be_reexecuted": false,
    "execution_millis": 13,
    "execution_start": 1646171041182,
    "source_hash": "30f7b93b",
    "tags": []
   },
   "outputs": [
    {
     "data": {
      "text/html": [
       "\n",
       "                <audio  controls=\"controls\" >\n",
       "                    <source src=\"data:audio/wav;base64,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\" type=\"audio/wav\" />\n",
       "                    Your browser does not support the audio element.\n",
       "                </audio>\n",
       "              "
      ],
      "text/plain": [
       "<IPython.lib.display.Audio object>"
      ]
     },
     "execution_count": 17,
     "metadata": {},
     "output_type": "execute_result"
    }
   ],
   "source": [
    "# Playing the bytes-saved audio in the notebook\n",
    "Audio(mp3_fp.getvalue())"
   ]
  }
 ],
 "metadata": {
  "deepnote": {
   "is_reactive": false
  },
  "deepnote_execution_queue": [],
  "deepnote_notebook_id": "fee35360-60d4-40e3-a395-dca7daf2a294",
  "kernelspec": {
   "display_name": ".venv",
   "language": "python",
   "name": "python3"
  },
  "language_info": {
   "codemirror_mode": {
    "name": "ipython",
    "version": 3
   },
   "file_extension": ".py",
   "mimetype": "text/x-python",
   "name": "python",
   "nbconvert_exporter": "python",
   "pygments_lexer": "ipython3",
   "version": "3.12.7"
  },
  "orig_nbformat": 2
 },
 "nbformat": 4,
 "nbformat_minor": 2
}
